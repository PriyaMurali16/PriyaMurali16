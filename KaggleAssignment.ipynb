{
  "nbformat": 4,
  "nbformat_minor": 0,
  "metadata": {
    "kernelspec": {
      "display_name": "Python 3",
      "language": "python",
      "name": "python3"
    },
    "language_info": {
      "codemirror_mode": {
        "name": "ipython",
        "version": 3
      },
      "file_extension": ".py",
      "mimetype": "text/x-python",
      "name": "python",
      "nbconvert_exporter": "python",
      "pygments_lexer": "ipython3",
      "version": "3.8.5"
    },
    "colab": {
      "name": "KaggleAssignment.ipynb",
      "provenance": [],
      "collapsed_sections": [],
      "include_colab_link": true
    }
  },
  "cells": [
    {
      "cell_type": "markdown",
      "metadata": {
        "id": "view-in-github",
        "colab_type": "text"
      },
      "source": [
        "<a href=\"https://colab.research.google.com/github/PriyaMurali16/PriyaMurali16/blob/main/KaggleAssignment.ipynb\" target=\"_parent\"><img src=\"https://colab.research.google.com/assets/colab-badge.svg\" alt=\"Open In Colab\"/></a>"
      ]
    },
    {
      "cell_type": "code",
      "metadata": {
        "id": "0TcPWlPwgRUs"
      },
      "source": [
        ""
      ],
      "execution_count": null,
      "outputs": []
    },
    {
      "cell_type": "code",
      "metadata": {
        "id": "pKqpD9PUgRUt"
      },
      "source": [
        "import numpy as np\n",
        "import pandas as pd\n",
        "import seaborn as sns\n",
        "import matplotlib.pyplot as plt\n",
        "\n",
        "%matplotlib inline\n",
        "pd.options.display.max_columns = 999"
      ],
      "execution_count": null,
      "outputs": []
    },
    {
      "cell_type": "code",
      "metadata": {
        "id": "IBHdRUL5gRUt"
      },
      "source": [
        "data = pd.read_csv(\"train_luc.csv\")"
      ],
      "execution_count": null,
      "outputs": []
    },
    {
      "cell_type": "code",
      "metadata": {
        "colab": {
          "base_uri": "https://localhost:8080/",
          "height": 110
        },
        "id": "E93ufVgPgRUu",
        "outputId": "60286299-4c11-4fc4-da73-6a028f54d1a8"
      },
      "source": [
        "data.head(2)"
      ],
      "execution_count": null,
      "outputs": [
        {
          "output_type": "execute_result",
          "data": {
            "text/html": [
              "<div>\n",
              "<style scoped>\n",
              "    .dataframe tbody tr th:only-of-type {\n",
              "        vertical-align: middle;\n",
              "    }\n",
              "\n",
              "    .dataframe tbody tr th {\n",
              "        vertical-align: top;\n",
              "    }\n",
              "\n",
              "    .dataframe thead th {\n",
              "        text-align: right;\n",
              "    }\n",
              "</style>\n",
              "<table border=\"1\" class=\"dataframe\">\n",
              "  <thead>\n",
              "    <tr style=\"text-align: right;\">\n",
              "      <th></th>\n",
              "      <th>datetime</th>\n",
              "      <th>season</th>\n",
              "      <th>holiday</th>\n",
              "      <th>workingday</th>\n",
              "      <th>weather</th>\n",
              "      <th>temp</th>\n",
              "      <th>atemp</th>\n",
              "      <th>humidity</th>\n",
              "      <th>windspeed</th>\n",
              "      <th>casual</th>\n",
              "      <th>registered</th>\n",
              "      <th>count</th>\n",
              "    </tr>\n",
              "  </thead>\n",
              "  <tbody>\n",
              "    <tr>\n",
              "      <th>0</th>\n",
              "      <td>2011-01-01 00:00:00</td>\n",
              "      <td>1</td>\n",
              "      <td>0</td>\n",
              "      <td>0</td>\n",
              "      <td>1</td>\n",
              "      <td>9.84</td>\n",
              "      <td>14.395</td>\n",
              "      <td>81</td>\n",
              "      <td>0.0</td>\n",
              "      <td>3</td>\n",
              "      <td>13</td>\n",
              "      <td>16</td>\n",
              "    </tr>\n",
              "    <tr>\n",
              "      <th>1</th>\n",
              "      <td>2011-01-01 01:00:00</td>\n",
              "      <td>1</td>\n",
              "      <td>0</td>\n",
              "      <td>0</td>\n",
              "      <td>1</td>\n",
              "      <td>9.02</td>\n",
              "      <td>13.635</td>\n",
              "      <td>80</td>\n",
              "      <td>0.0</td>\n",
              "      <td>8</td>\n",
              "      <td>32</td>\n",
              "      <td>40</td>\n",
              "    </tr>\n",
              "  </tbody>\n",
              "</table>\n",
              "</div>"
            ],
            "text/plain": [
              "              datetime  season  holiday  workingday  weather  temp   atemp  \\\n",
              "0  2011-01-01 00:00:00       1        0           0        1  9.84  14.395   \n",
              "1  2011-01-01 01:00:00       1        0           0        1  9.02  13.635   \n",
              "\n",
              "   humidity  windspeed  casual  registered  count  \n",
              "0        81        0.0       3          13     16  \n",
              "1        80        0.0       8          32     40  "
            ]
          },
          "metadata": {},
          "execution_count": 10
        }
      ]
    },
    {
      "cell_type": "code",
      "metadata": {
        "id": "AcdUaeuhgRUu"
      },
      "source": [
        "data[\"year\"] = pd.DatetimeIndex(data['datetime']).year\n",
        "data[\"month\"] = pd.DatetimeIndex(data['datetime']).month\n",
        "data[\"dayofweek\"] = pd.DatetimeIndex(data['datetime']).dayofweek\n",
        "data[\"hour\"] = pd.DatetimeIndex(data['datetime']).hour\n",
        "\n",
        "data.drop(labels = \"datetime\", axis =1, inplace = True)"
      ],
      "execution_count": null,
      "outputs": []
    },
    {
      "cell_type": "code",
      "metadata": {
        "colab": {
          "base_uri": "https://localhost:8080/",
          "height": 110
        },
        "id": "Jz0pIEbOgRUv",
        "outputId": "e016c426-5ca5-498d-836e-6456a913a8e4"
      },
      "source": [
        "data.head(2)"
      ],
      "execution_count": null,
      "outputs": [
        {
          "output_type": "execute_result",
          "data": {
            "text/html": [
              "<div>\n",
              "<style scoped>\n",
              "    .dataframe tbody tr th:only-of-type {\n",
              "        vertical-align: middle;\n",
              "    }\n",
              "\n",
              "    .dataframe tbody tr th {\n",
              "        vertical-align: top;\n",
              "    }\n",
              "\n",
              "    .dataframe thead th {\n",
              "        text-align: right;\n",
              "    }\n",
              "</style>\n",
              "<table border=\"1\" class=\"dataframe\">\n",
              "  <thead>\n",
              "    <tr style=\"text-align: right;\">\n",
              "      <th></th>\n",
              "      <th>season</th>\n",
              "      <th>holiday</th>\n",
              "      <th>workingday</th>\n",
              "      <th>weather</th>\n",
              "      <th>temp</th>\n",
              "      <th>atemp</th>\n",
              "      <th>humidity</th>\n",
              "      <th>windspeed</th>\n",
              "      <th>casual</th>\n",
              "      <th>registered</th>\n",
              "      <th>count</th>\n",
              "      <th>year</th>\n",
              "      <th>month</th>\n",
              "      <th>dayofweek</th>\n",
              "      <th>hour</th>\n",
              "    </tr>\n",
              "  </thead>\n",
              "  <tbody>\n",
              "    <tr>\n",
              "      <th>0</th>\n",
              "      <td>1</td>\n",
              "      <td>0</td>\n",
              "      <td>0</td>\n",
              "      <td>1</td>\n",
              "      <td>9.84</td>\n",
              "      <td>14.395</td>\n",
              "      <td>81</td>\n",
              "      <td>0.0</td>\n",
              "      <td>3</td>\n",
              "      <td>13</td>\n",
              "      <td>16</td>\n",
              "      <td>2011</td>\n",
              "      <td>1</td>\n",
              "      <td>5</td>\n",
              "      <td>0</td>\n",
              "    </tr>\n",
              "    <tr>\n",
              "      <th>1</th>\n",
              "      <td>1</td>\n",
              "      <td>0</td>\n",
              "      <td>0</td>\n",
              "      <td>1</td>\n",
              "      <td>9.02</td>\n",
              "      <td>13.635</td>\n",
              "      <td>80</td>\n",
              "      <td>0.0</td>\n",
              "      <td>8</td>\n",
              "      <td>32</td>\n",
              "      <td>40</td>\n",
              "      <td>2011</td>\n",
              "      <td>1</td>\n",
              "      <td>5</td>\n",
              "      <td>1</td>\n",
              "    </tr>\n",
              "  </tbody>\n",
              "</table>\n",
              "</div>"
            ],
            "text/plain": [
              "   season  holiday  workingday  weather  temp   atemp  humidity  windspeed  \\\n",
              "0       1        0           0        1  9.84  14.395        81        0.0   \n",
              "1       1        0           0        1  9.02  13.635        80        0.0   \n",
              "\n",
              "   casual  registered  count  year  month  dayofweek  hour  \n",
              "0       3          13     16  2011      1          5     0  \n",
              "1       8          32     40  2011      1          5     1  "
            ]
          },
          "metadata": {},
          "execution_count": 12
        }
      ]
    },
    {
      "cell_type": "code",
      "metadata": {
        "id": "J7gMiWregRUv",
        "colab": {
          "base_uri": "https://localhost:8080/"
        },
        "outputId": "7b280b6f-5ca7-471a-9652-e4056e68d3ab"
      },
      "source": [
        "data.info()"
      ],
      "execution_count": null,
      "outputs": [
        {
          "output_type": "stream",
          "name": "stdout",
          "text": [
            "<class 'pandas.core.frame.DataFrame'>\n",
            "RangeIndex: 9174 entries, 0 to 9173\n",
            "Data columns (total 15 columns):\n",
            " #   Column      Non-Null Count  Dtype  \n",
            "---  ------      --------------  -----  \n",
            " 0   season      9174 non-null   int64  \n",
            " 1   holiday     9174 non-null   int64  \n",
            " 2   workingday  9174 non-null   int64  \n",
            " 3   weather     9174 non-null   int64  \n",
            " 4   temp        9174 non-null   float64\n",
            " 5   atemp       9174 non-null   float64\n",
            " 6   humidity    9174 non-null   int64  \n",
            " 7   windspeed   9174 non-null   float64\n",
            " 8   casual      9174 non-null   int64  \n",
            " 9   registered  9174 non-null   int64  \n",
            " 10  count       9174 non-null   int64  \n",
            " 11  year        9174 non-null   int64  \n",
            " 12  month       9174 non-null   int64  \n",
            " 13  dayofweek   9174 non-null   int64  \n",
            " 14  hour        9174 non-null   int64  \n",
            "dtypes: float64(3), int64(12)\n",
            "memory usage: 1.1 MB\n"
          ]
        }
      ]
    },
    {
      "cell_type": "code",
      "metadata": {
        "colab": {
          "base_uri": "https://localhost:8080/"
        },
        "id": "Bgi50FkTjaK8",
        "outputId": "bdda85fc-49dd-4adc-df09-fe375e5351d3"
      },
      "source": [
        "data.shape"
      ],
      "execution_count": null,
      "outputs": [
        {
          "output_type": "execute_result",
          "data": {
            "text/plain": [
              "(9174, 12)"
            ]
          },
          "metadata": {},
          "execution_count": 33
        }
      ]
    },
    {
      "cell_type": "code",
      "metadata": {
        "id": "Th-7bNPEgRUv",
        "colab": {
          "base_uri": "https://localhost:8080/"
        },
        "outputId": "fb7089c0-6784-45c8-fd7b-56686dff57a6"
      },
      "source": [
        "#season, holiday, workingday, weather, year, month, dayofweek, and hour should be categorical variables.\n",
        "#so converting them into categorical datatype.\n",
        "\n",
        "categorical = ['season', 'holiday', 'workingday', 'weather','year','month', 'dayofweek', 'hour']\n",
        "\n",
        "for i in categorical:\n",
        "    data[i] = data[i].astype(\"category\")\n",
        "\n",
        "data.info()"
      ],
      "execution_count": null,
      "outputs": [
        {
          "output_type": "stream",
          "name": "stdout",
          "text": [
            "<class 'pandas.core.frame.DataFrame'>\n",
            "RangeIndex: 9174 entries, 0 to 9173\n",
            "Data columns (total 15 columns):\n",
            " #   Column      Non-Null Count  Dtype   \n",
            "---  ------      --------------  -----   \n",
            " 0   season      9174 non-null   category\n",
            " 1   holiday     9174 non-null   category\n",
            " 2   workingday  9174 non-null   category\n",
            " 3   weather     9174 non-null   category\n",
            " 4   temp        9174 non-null   float64 \n",
            " 5   atemp       9174 non-null   float64 \n",
            " 6   humidity    9174 non-null   int64   \n",
            " 7   windspeed   9174 non-null   float64 \n",
            " 8   casual      9174 non-null   int64   \n",
            " 9   registered  9174 non-null   int64   \n",
            " 10  count       9174 non-null   int64   \n",
            " 11  year        9174 non-null   category\n",
            " 12  month       9174 non-null   category\n",
            " 13  dayofweek   9174 non-null   category\n",
            " 14  hour        9174 non-null   category\n",
            "dtypes: category(8), float64(3), int64(4)\n",
            "memory usage: 575.7 KB\n"
          ]
        }
      ]
    },
    {
      "cell_type": "code",
      "metadata": {
        "id": "EeDsX3B1gRUw",
        "colab": {
          "base_uri": "https://localhost:8080/",
          "height": 845
        },
        "outputId": "811363f0-7ea2-48fa-8663-fc0573e7529a"
      },
      "source": [
        "#checking the distribution of the targetvariable.\n",
        "import statsmodels.api as sm\n",
        "fig, (ax1,ax2) = plt.subplots(ncols=2, figsize=(20,6))\n",
        "sns.distplot(data[\"count\"], ax=ax1)\n",
        "sm.qqplot(data[\"count\"],ax = ax2, line = 's')"
      ],
      "execution_count": null,
      "outputs": [
        {
          "output_type": "stream",
          "name": "stderr",
          "text": [
            "/usr/local/lib/python3.7/dist-packages/statsmodels/tools/_testing.py:19: FutureWarning: pandas.util.testing is deprecated. Use the functions in the public API at pandas.testing instead.\n",
            "  import pandas.util.testing as tm\n",
            "/usr/local/lib/python3.7/dist-packages/seaborn/distributions.py:2619: FutureWarning: `distplot` is a deprecated function and will be removed in a future version. Please adapt your code to use either `displot` (a figure-level function with similar flexibility) or `histplot` (an axes-level function for histograms).\n",
            "  warnings.warn(msg, FutureWarning)\n"
          ]
        },
        {
          "output_type": "execute_result",
          "data": {
            "image/png": "[encoded data removed]",
            "text/plain": [
              "<Figure size 1440x432 with 2 Axes>"
            ]
          },
          "metadata": {},
          "execution_count": 15
        },
        {
          "output_type": "display_data",
          "data": {
            "image/png": "[encoded data removed]",
            "text/plain": [
              "<Figure size 1440x432 with 2 Axes>"
            ]
          },
          "metadata": {
            "needs_background": "light"
          }
        }
      ]
    },
    {
      "cell_type": "code",
      "metadata": {
        "id": "7mrVu2eMgRUw"
      },
      "source": [
        "#log transforming our target variable.\n",
        "\n",
        "data[\"count\"] = np.log(data[\"count\"])"
      ],
      "execution_count": null,
      "outputs": []
    },
    {
      "cell_type": "code",
      "metadata": {
        "id": "0ExHpIWugRUw",
        "colab": {
          "base_uri": "https://localhost:8080/",
          "height": 812
        },
        "outputId": "9fed7831-1ce4-47a9-8819-50a95ad95541"
      },
      "source": [
        "fig, (ax1,ax2) = plt.subplots(ncols=2, figsize=(20,6))\n",
        "sns.distplot(data[\"count\"], ax=ax1)\n",
        "sm.qqplot(data[\"count\"],ax = ax2, line = 's')"
      ],
      "execution_count": null,
      "outputs": [
        {
          "output_type": "stream",
          "name": "stderr",
          "text": [
            "/usr/local/lib/python3.7/dist-packages/seaborn/distributions.py:2619: FutureWarning: `distplot` is a deprecated function and will be removed in a future version. Please adapt your code to use either `displot` (a figure-level function with similar flexibility) or `histplot` (an axes-level function for histograms).\n",
            "  warnings.warn(msg, FutureWarning)\n"
          ]
        },
        {
          "output_type": "execute_result",
          "data": {
            "image/png": "[encoded data removed]",
            "text/plain": [
              "<Figure size 1440x432 with 2 Axes>"
            ]
          },
          "metadata": {},
          "execution_count": 17
        },
        {
          "output_type": "display_data",
          "data": {
            "image/png": "[encoded data removed]",
            "text/plain": [
              "<Figure size 1440x432 with 2 Axes>"
            ]
          },
          "metadata": {
            "needs_background": "light"
          }
        }
      ]
    },
    {
      "cell_type": "code",
      "metadata": {
        "id": "MsVXzZA4gRUw",
        "colab": {
          "base_uri": "https://localhost:8080/",
          "height": 612
        },
        "outputId": "e6c3183c-7080-44d6-e8ce-47272aaa858e"
      },
      "source": [
        "#correlation analysis\n",
        "\n",
        "plt.figure(figsize = (15,10))\n",
        "sns.heatmap(data.corr(), annot = True)"
      ],
      "execution_count": null,
      "outputs": [
        {
          "output_type": "execute_result",
          "data": {
            "text/plain": [
              "<matplotlib.axes._subplots.AxesSubplot at 0x7faa436b5650>"
            ]
          },
          "metadata": {},
          "execution_count": 18
        },
        {
          "output_type": "display_data",
          "data": {
            "image/png": "[encoded data removed]",
            "text/plain": [
              "<Figure size 1080x720 with 2 Axes>"
            ]
          },
          "metadata": {
            "needs_background": "light"
          }
        }
      ]
    },
    {
      "cell_type": "code",
      "metadata": {
        "id": "xL-o9pgigRUx"
      },
      "source": [
        "#atemp is higherly correlated with temp variable.\n",
        "\n",
        "#registered and casual are also related to count\n",
        "\n",
        "#Therefore removing atemp, registered and casual attributes.\n",
        "\n",
        "data.drop(labels = [\"atemp\", \"casual\", \"registered\"], axis = 1, inplace = True)"
      ],
      "execution_count": null,
      "outputs": []
    },
    {
      "cell_type": "code",
      "metadata": {
        "id": "quR1h8EvgRUx",
        "colab": {
          "base_uri": "https://localhost:8080/"
        },
        "outputId": "489a557b-c749-4da4-d57f-2de894397fc9"
      },
      "source": [
        "data.info()"
      ],
      "execution_count": null,
      "outputs": [
        {
          "output_type": "stream",
          "name": "stdout",
          "text": [
            "<class 'pandas.core.frame.DataFrame'>\n",
            "RangeIndex: 9174 entries, 0 to 9173\n",
            "Data columns (total 12 columns):\n",
            " #   Column      Non-Null Count  Dtype   \n",
            "---  ------      --------------  -----   \n",
            " 0   season      9174 non-null   category\n",
            " 1   holiday     9174 non-null   category\n",
            " 2   workingday  9174 non-null   category\n",
            " 3   weather     9174 non-null   category\n",
            " 4   temp        9174 non-null   float64 \n",
            " 5   humidity    9174 non-null   int64   \n",
            " 6   windspeed   9174 non-null   float64 \n",
            " 7   count       9174 non-null   float64 \n",
            " 8   year        9174 non-null   category\n",
            " 9   month       9174 non-null   category\n",
            " 10  dayofweek   9174 non-null   category\n",
            " 11  hour        9174 non-null   category\n",
            "dtypes: category(8), float64(3), int64(1)\n",
            "memory usage: 360.7 KB\n"
          ]
        }
      ]
    },
    {
      "cell_type": "code",
      "metadata": {
        "id": "7IvQnAE6gRUx",
        "colab": {
          "base_uri": "https://localhost:8080/"
        },
        "outputId": "2efb80d0-28c2-417b-c68b-64eb6c2e5818"
      },
      "source": [
        "data.columns"
      ],
      "execution_count": null,
      "outputs": [
        {
          "output_type": "execute_result",
          "data": {
            "text/plain": [
              "Index(['season', 'holiday', 'workingday', 'weather', 'temp', 'humidity',\n",
              "       'windspeed', 'count', 'year', 'month', 'dayofweek', 'hour'],\n",
              "      dtype='object')"
            ]
          },
          "metadata": {},
          "execution_count": 21
        }
      ]
    },
    {
      "cell_type": "code",
      "metadata": {
        "id": "rldPO-KQgRUx"
      },
      "source": [
        "#one hot encoding\n",
        "\n",
        "data1 = pd.get_dummies(data,columns=['season','holiday', 'workingday', 'weather','year', 'month', 'dayofweek', 'hour'],drop_first=True)"
      ],
      "execution_count": null,
      "outputs": []
    },
    {
      "cell_type": "code",
      "metadata": {
        "id": "mPlu8_eRgRUx",
        "colab": {
          "base_uri": "https://localhost:8080/",
          "height": 222
        },
        "outputId": "7802a619-7eec-4b17-bca9-444e8e1b61ce"
      },
      "source": [
        "data1.head()"
      ],
      "execution_count": null,
      "outputs": [
        {
          "output_type": "execute_result",
          "data": {
            "text/html": [
              "<div>\n",
              "<style scoped>\n",
              "    .dataframe tbody tr th:only-of-type {\n",
              "        vertical-align: middle;\n",
              "    }\n",
              "\n",
              "    .dataframe tbody tr th {\n",
              "        vertical-align: top;\n",
              "    }\n",
              "\n",
              "    .dataframe thead th {\n",
              "        text-align: right;\n",
              "    }\n",
              "</style>\n",
              "<table border=\"1\" class=\"dataframe\">\n",
              "  <thead>\n",
              "    <tr style=\"text-align: right;\">\n",
              "      <th></th>\n",
              "      <th>temp</th>\n",
              "      <th>humidity</th>\n",
              "      <th>windspeed</th>\n",
              "      <th>count</th>\n",
              "      <th>season_2</th>\n",
              "      <th>season_3</th>\n",
              "      <th>season_4</th>\n",
              "      <th>holiday_1</th>\n",
              "      <th>workingday_1</th>\n",
              "      <th>weather_2</th>\n",
              "      <th>weather_3</th>\n",
              "      <th>weather_4</th>\n",
              "      <th>year_2012</th>\n",
              "      <th>month_2</th>\n",
              "      <th>month_3</th>\n",
              "      <th>month_4</th>\n",
              "      <th>month_5</th>\n",
              "      <th>month_6</th>\n",
              "      <th>month_7</th>\n",
              "      <th>month_8</th>\n",
              "      <th>month_9</th>\n",
              "      <th>month_10</th>\n",
              "      <th>month_11</th>\n",
              "      <th>month_12</th>\n",
              "      <th>dayofweek_1</th>\n",
              "      <th>dayofweek_2</th>\n",
              "      <th>dayofweek_3</th>\n",
              "      <th>dayofweek_4</th>\n",
              "      <th>dayofweek_5</th>\n",
              "      <th>dayofweek_6</th>\n",
              "      <th>hour_1</th>\n",
              "      <th>hour_2</th>\n",
              "      <th>hour_3</th>\n",
              "      <th>hour_4</th>\n",
              "      <th>hour_5</th>\n",
              "      <th>hour_6</th>\n",
              "      <th>hour_7</th>\n",
              "      <th>hour_8</th>\n",
              "      <th>hour_9</th>\n",
              "      <th>hour_10</th>\n",
              "      <th>hour_11</th>\n",
              "      <th>hour_12</th>\n",
              "      <th>hour_13</th>\n",
              "      <th>hour_14</th>\n",
              "      <th>hour_15</th>\n",
              "      <th>hour_16</th>\n",
              "      <th>hour_17</th>\n",
              "      <th>hour_18</th>\n",
              "      <th>hour_19</th>\n",
              "      <th>hour_20</th>\n",
              "      <th>hour_21</th>\n",
              "      <th>hour_22</th>\n",
              "      <th>hour_23</th>\n",
              "    </tr>\n",
              "  </thead>\n",
              "  <tbody>\n",
              "    <tr>\n",
              "      <th>0</th>\n",
              "      <td>9.84</td>\n",
              "      <td>81</td>\n",
              "      <td>0.0</td>\n",
              "      <td>2.772589</td>\n",
              "      <td>0</td>\n",
              "      <td>0</td>\n",
              "      <td>0</td>\n",
              "      <td>0</td>\n",
              "      <td>0</td>\n",
              "      <td>0</td>\n",
              "      <td>0</td>\n",
              "      <td>0</td>\n",
              "      <td>0</td>\n",
              "      <td>0</td>\n",
              "      <td>0</td>\n",
              "      <td>0</td>\n",
              "      <td>0</td>\n",
              "      <td>0</td>\n",
              "      <td>0</td>\n",
              "      <td>0</td>\n",
              "      <td>0</td>\n",
              "      <td>0</td>\n",
              "      <td>0</td>\n",
              "      <td>0</td>\n",
              "      <td>0</td>\n",
              "      <td>0</td>\n",
              "      <td>0</td>\n",
              "      <td>0</td>\n",
              "      <td>1</td>\n",
              "      <td>0</td>\n",
              "      <td>0</td>\n",
              "      <td>0</td>\n",
              "      <td>0</td>\n",
              "      <td>0</td>\n",
              "      <td>0</td>\n",
              "      <td>0</td>\n",
              "      <td>0</td>\n",
              "      <td>0</td>\n",
              "      <td>0</td>\n",
              "      <td>0</td>\n",
              "      <td>0</td>\n",
              "      <td>0</td>\n",
              "      <td>0</td>\n",
              "      <td>0</td>\n",
              "      <td>0</td>\n",
              "      <td>0</td>\n",
              "      <td>0</td>\n",
              "      <td>0</td>\n",
              "      <td>0</td>\n",
              "      <td>0</td>\n",
              "      <td>0</td>\n",
              "      <td>0</td>\n",
              "      <td>0</td>\n",
              "    </tr>\n",
              "    <tr>\n",
              "      <th>1</th>\n",
              "      <td>9.02</td>\n",
              "      <td>80</td>\n",
              "      <td>0.0</td>\n",
              "      <td>3.688879</td>\n",
              "      <td>0</td>\n",
              "      <td>0</td>\n",
              "      <td>0</td>\n",
              "      <td>0</td>\n",
              "      <td>0</td>\n",
              "      <td>0</td>\n",
              "      <td>0</td>\n",
              "      <td>0</td>\n",
              "      <td>0</td>\n",
              "      <td>0</td>\n",
              "      <td>0</td>\n",
              "      <td>0</td>\n",
              "      <td>0</td>\n",
              "      <td>0</td>\n",
              "      <td>0</td>\n",
              "      <td>0</td>\n",
              "      <td>0</td>\n",
              "      <td>0</td>\n",
              "      <td>0</td>\n",
              "      <td>0</td>\n",
              "      <td>0</td>\n",
              "      <td>0</td>\n",
              "      <td>0</td>\n",
              "      <td>0</td>\n",
              "      <td>1</td>\n",
              "      <td>0</td>\n",
              "      <td>1</td>\n",
              "      <td>0</td>\n",
              "      <td>0</td>\n",
              "      <td>0</td>\n",
              "      <td>0</td>\n",
              "      <td>0</td>\n",
              "      <td>0</td>\n",
              "      <td>0</td>\n",
              "      <td>0</td>\n",
              "      <td>0</td>\n",
              "      <td>0</td>\n",
              "      <td>0</td>\n",
              "      <td>0</td>\n",
              "      <td>0</td>\n",
              "      <td>0</td>\n",
              "      <td>0</td>\n",
              "      <td>0</td>\n",
              "      <td>0</td>\n",
              "      <td>0</td>\n",
              "      <td>0</td>\n",
              "      <td>0</td>\n",
              "      <td>0</td>\n",
              "      <td>0</td>\n",
              "    </tr>\n",
              "    <tr>\n",
              "      <th>2</th>\n",
              "      <td>9.02</td>\n",
              "      <td>80</td>\n",
              "      <td>0.0</td>\n",
              "      <td>3.465736</td>\n",
              "      <td>0</td>\n",
              "      <td>0</td>\n",
              "      <td>0</td>\n",
              "      <td>0</td>\n",
              "      <td>0</td>\n",
              "      <td>0</td>\n",
              "      <td>0</td>\n",
              "      <td>0</td>\n",
              "      <td>0</td>\n",
              "      <td>0</td>\n",
              "      <td>0</td>\n",
              "      <td>0</td>\n",
              "      <td>0</td>\n",
              "      <td>0</td>\n",
              "      <td>0</td>\n",
              "      <td>0</td>\n",
              "      <td>0</td>\n",
              "      <td>0</td>\n",
              "      <td>0</td>\n",
              "      <td>0</td>\n",
              "      <td>0</td>\n",
              "      <td>0</td>\n",
              "      <td>0</td>\n",
              "      <td>0</td>\n",
              "      <td>1</td>\n",
              "      <td>0</td>\n",
              "      <td>0</td>\n",
              "      <td>1</td>\n",
              "      <td>0</td>\n",
              "      <td>0</td>\n",
              "      <td>0</td>\n",
              "      <td>0</td>\n",
              "      <td>0</td>\n",
              "      <td>0</td>\n",
              "      <td>0</td>\n",
              "      <td>0</td>\n",
              "      <td>0</td>\n",
              "      <td>0</td>\n",
              "      <td>0</td>\n",
              "      <td>0</td>\n",
              "      <td>0</td>\n",
              "      <td>0</td>\n",
              "      <td>0</td>\n",
              "      <td>0</td>\n",
              "      <td>0</td>\n",
              "      <td>0</td>\n",
              "      <td>0</td>\n",
              "      <td>0</td>\n",
              "      <td>0</td>\n",
              "    </tr>\n",
              "    <tr>\n",
              "      <th>3</th>\n",
              "      <td>9.84</td>\n",
              "      <td>75</td>\n",
              "      <td>0.0</td>\n",
              "      <td>2.564949</td>\n",
              "      <td>0</td>\n",
              "      <td>0</td>\n",
              "      <td>0</td>\n",
              "      <td>0</td>\n",
              "      <td>0</td>\n",
              "      <td>0</td>\n",
              "      <td>0</td>\n",
              "      <td>0</td>\n",
              "      <td>0</td>\n",
              "      <td>0</td>\n",
              "      <td>0</td>\n",
              "      <td>0</td>\n",
              "      <td>0</td>\n",
              "      <td>0</td>\n",
              "      <td>0</td>\n",
              "      <td>0</td>\n",
              "      <td>0</td>\n",
              "      <td>0</td>\n",
              "      <td>0</td>\n",
              "      <td>0</td>\n",
              "      <td>0</td>\n",
              "      <td>0</td>\n",
              "      <td>0</td>\n",
              "      <td>0</td>\n",
              "      <td>1</td>\n",
              "      <td>0</td>\n",
              "      <td>0</td>\n",
              "      <td>0</td>\n",
              "      <td>1</td>\n",
              "      <td>0</td>\n",
              "      <td>0</td>\n",
              "      <td>0</td>\n",
              "      <td>0</td>\n",
              "      <td>0</td>\n",
              "      <td>0</td>\n",
              "      <td>0</td>\n",
              "      <td>0</td>\n",
              "      <td>0</td>\n",
              "      <td>0</td>\n",
              "      <td>0</td>\n",
              "      <td>0</td>\n",
              "      <td>0</td>\n",
              "      <td>0</td>\n",
              "      <td>0</td>\n",
              "      <td>0</td>\n",
              "      <td>0</td>\n",
              "      <td>0</td>\n",
              "      <td>0</td>\n",
              "      <td>0</td>\n",
              "    </tr>\n",
              "    <tr>\n",
              "      <th>4</th>\n",
              "      <td>9.84</td>\n",
              "      <td>75</td>\n",
              "      <td>0.0</td>\n",
              "      <td>0.000000</td>\n",
              "      <td>0</td>\n",
              "      <td>0</td>\n",
              "      <td>0</td>\n",
              "      <td>0</td>\n",
              "      <td>0</td>\n",
              "      <td>0</td>\n",
              "      <td>0</td>\n",
              "      <td>0</td>\n",
              "      <td>0</td>\n",
              "      <td>0</td>\n",
              "      <td>0</td>\n",
              "      <td>0</td>\n",
              "      <td>0</td>\n",
              "      <td>0</td>\n",
              "      <td>0</td>\n",
              "      <td>0</td>\n",
              "      <td>0</td>\n",
              "      <td>0</td>\n",
              "      <td>0</td>\n",
              "      <td>0</td>\n",
              "      <td>0</td>\n",
              "      <td>0</td>\n",
              "      <td>0</td>\n",
              "      <td>0</td>\n",
              "      <td>1</td>\n",
              "      <td>0</td>\n",
              "      <td>0</td>\n",
              "      <td>0</td>\n",
              "      <td>0</td>\n",
              "      <td>1</td>\n",
              "      <td>0</td>\n",
              "      <td>0</td>\n",
              "      <td>0</td>\n",
              "      <td>0</td>\n",
              "      <td>0</td>\n",
              "      <td>0</td>\n",
              "      <td>0</td>\n",
              "      <td>0</td>\n",
              "      <td>0</td>\n",
              "      <td>0</td>\n",
              "      <td>0</td>\n",
              "      <td>0</td>\n",
              "      <td>0</td>\n",
              "      <td>0</td>\n",
              "      <td>0</td>\n",
              "      <td>0</td>\n",
              "      <td>0</td>\n",
              "      <td>0</td>\n",
              "      <td>0</td>\n",
              "    </tr>\n",
              "  </tbody>\n",
              "</table>\n",
              "</div>"
            ],
            "text/plain": [
              "   temp  humidity  windspeed     count  season_2  season_3  season_4  \\\n",
              "0  9.84        81        0.0  2.772589         0         0         0   \n",
              "1  9.02        80        0.0  3.688879         0         0         0   \n",
              "2  9.02        80        0.0  3.465736         0         0         0   \n",
              "3  9.84        75        0.0  2.564949         0         0         0   \n",
              "4  9.84        75        0.0  0.000000         0         0         0   \n",
              "\n",
              "   holiday_1  workingday_1  weather_2  weather_3  weather_4  year_2012  \\\n",
              "0          0             0          0          0          0          0   \n",
              "1          0             0          0          0          0          0   \n",
              "2          0             0          0          0          0          0   \n",
              "3          0             0          0          0          0          0   \n",
              "4          0             0          0          0          0          0   \n",
              "\n",
              "   month_2  month_3  month_4  month_5  month_6  month_7  month_8  month_9  \\\n",
              "0        0        0        0        0        0        0        0        0   \n",
              "1        0        0        0        0        0        0        0        0   \n",
              "2        0        0        0        0        0        0        0        0   \n",
              "3        0        0        0        0        0        0        0        0   \n",
              "4        0        0        0        0        0        0        0        0   \n",
              "\n",
              "   month_10  month_11  month_12  dayofweek_1  dayofweek_2  dayofweek_3  \\\n",
              "0         0         0         0            0            0            0   \n",
              "1         0         0         0            0            0            0   \n",
              "2         0         0         0            0            0            0   \n",
              "3         0         0         0            0            0            0   \n",
              "4         0         0         0            0            0            0   \n",
              "\n",
              "   dayofweek_4  dayofweek_5  dayofweek_6  hour_1  hour_2  hour_3  hour_4  \\\n",
              "0            0            1            0       0       0       0       0   \n",
              "1            0            1            0       1       0       0       0   \n",
              "2            0            1            0       0       1       0       0   \n",
              "3            0            1            0       0       0       1       0   \n",
              "4            0            1            0       0       0       0       1   \n",
              "\n",
              "   hour_5  hour_6  hour_7  hour_8  hour_9  hour_10  hour_11  hour_12  hour_13  \\\n",
              "0       0       0       0       0       0        0        0        0        0   \n",
              "1       0       0       0       0       0        0        0        0        0   \n",
              "2       0       0       0       0       0        0        0        0        0   \n",
              "3       0       0       0       0       0        0        0        0        0   \n",
              "4       0       0       0       0       0        0        0        0        0   \n",
              "\n",
              "   hour_14  hour_15  hour_16  hour_17  hour_18  hour_19  hour_20  hour_21  \\\n",
              "0        0        0        0        0        0        0        0        0   \n",
              "1        0        0        0        0        0        0        0        0   \n",
              "2        0        0        0        0        0        0        0        0   \n",
              "3        0        0        0        0        0        0        0        0   \n",
              "4        0        0        0        0        0        0        0        0   \n",
              "\n",
              "   hour_22  hour_23  \n",
              "0        0        0  \n",
              "1        0        0  \n",
              "2        0        0  \n",
              "3        0        0  \n",
              "4        0        0  "
            ]
          },
          "metadata": {},
          "execution_count": 23
        }
      ]
    },
    {
      "cell_type": "code",
      "metadata": {
        "id": "TedaabUNgRUy"
      },
      "source": [
        "#splitting our dataset\n",
        "\n",
        "x = data1[['temp', 'humidity', 'windspeed','season_2', 'season_3',\n",
        "       'season_4', 'holiday_1', 'workingday_1', 'weather_2', 'weather_3',\n",
        "       'weather_4', 'year_2012', 'month_2', 'month_3', 'month_4', 'month_5',\n",
        "       'month_6', 'month_7', 'month_8', 'month_9', 'month_10', 'month_11',\n",
        "       'month_12', 'dayofweek_1', 'dayofweek_2', 'dayofweek_3', 'dayofweek_4',\n",
        "       'dayofweek_5', 'dayofweek_6', 'hour_1', 'hour_2', 'hour_3', 'hour_4',\n",
        "       'hour_5', 'hour_6', 'hour_7', 'hour_8', 'hour_9', 'hour_10', 'hour_11',\n",
        "       'hour_12', 'hour_13', 'hour_14', 'hour_15', 'hour_16', 'hour_17',\n",
        "       'hour_18', 'hour_19', 'hour_20', 'hour_21', 'hour_22', 'hour_23']]\n",
        "\n",
        "y = data1[\"count\"]"
      ],
      "execution_count": null,
      "outputs": []
    },
    {
      "cell_type": "code",
      "metadata": {
        "id": "bMgDNwmjgRUy"
      },
      "source": [
        "from sklearn.model_selection import train_test_split\n",
        "\n",
        "x_train,x_test,y_train,y_test = train_test_split(x,y,test_size = 0.3,random_state=101)"
      ],
      "execution_count": null,
      "outputs": []
    },
    {
      "cell_type": "code",
      "metadata": {
        "id": "c25JykKjgRUy",
        "colab": {
          "base_uri": "https://localhost:8080/"
        },
        "outputId": "0c65712c-94aa-4e77-a1ae-3ab4057215fd"
      },
      "source": [
        "#linear regression\n",
        "from sklearn.linear_model import LinearRegression\n",
        "lm = LinearRegression()\n",
        "lm.fit(x_train, y_train)\n",
        "\n",
        "predictions = lm.predict(x_test)\n",
        "\n",
        "from sklearn.metrics import mean_squared_error\n",
        "print(\"RMSE of the linear regression model :\" +str(np.sqrt(mean_squared_error(predictions,y_test))))"
      ],
      "execution_count": null,
      "outputs": [
        {
          "output_type": "stream",
          "name": "stdout",
          "text": [
            "RMSE of the linear regression model :0.6277154947368208\n"
          ]
        }
      ]
    },
    {
      "cell_type": "code",
      "metadata": {
        "id": "H3abZAKrgRUz",
        "colab": {
          "base_uri": "https://localhost:8080/"
        },
        "outputId": "cd3721d0-b288-4097-f8aa-a5c4935ded03"
      },
      "source": [
        "#Random Forest\n",
        "\n",
        "from sklearn.ensemble import RandomForestRegressor\n",
        "rf = RandomForestRegressor()\n",
        "rf.fit(x_train,y_train)\n",
        "\n",
        "predict = rf.predict(x_test)\n",
        "\n",
        "print(\"RMSE of the Randomforest Model:\" +str(np.sqrt(mean_squared_error(predict,y_test))))"
      ],
      "execution_count": null,
      "outputs": [
        {
          "output_type": "stream",
          "name": "stdout",
          "text": [
            "RMSE of the Randomforest Model:0.4958803044216403\n"
          ]
        }
      ]
    },
    {
      "cell_type": "code",
      "metadata": {
        "id": "Ve_9OJwIjzwc"
      },
      "source": [
        "trial=pd.read_csv(\"train_luc.csv\")"
      ],
      "execution_count": null,
      "outputs": []
    },
    {
      "cell_type": "code",
      "metadata": {
        "colab": {
          "base_uri": "https://localhost:8080/",
          "height": 386
        },
        "id": "UmgVmOClj9us",
        "outputId": "ab9b280a-1ab1-4e49-f76c-1afbac3bf156"
      },
      "source": [
        "trial.corr()"
      ],
      "execution_count": null,
      "outputs": [
        {
          "output_type": "execute_result",
          "data": {
            "text/html": [
              "<div>\n",
              "<style scoped>\n",
              "    .dataframe tbody tr th:only-of-type {\n",
              "        vertical-align: middle;\n",
              "    }\n",
              "\n",
              "    .dataframe tbody tr th {\n",
              "        vertical-align: top;\n",
              "    }\n",
              "\n",
              "    .dataframe thead th {\n",
              "        text-align: right;\n",
              "    }\n",
              "</style>\n",
              "<table border=\"1\" class=\"dataframe\">\n",
              "  <thead>\n",
              "    <tr style=\"text-align: right;\">\n",
              "      <th></th>\n",
              "      <th>season</th>\n",
              "      <th>holiday</th>\n",
              "      <th>workingday</th>\n",
              "      <th>weather</th>\n",
              "      <th>temp</th>\n",
              "      <th>atemp</th>\n",
              "      <th>humidity</th>\n",
              "      <th>windspeed</th>\n",
              "      <th>casual</th>\n",
              "      <th>registered</th>\n",
              "      <th>count</th>\n",
              "    </tr>\n",
              "  </thead>\n",
              "  <tbody>\n",
              "    <tr>\n",
              "      <th>season</th>\n",
              "      <td>1.000000</td>\n",
              "      <td>0.053782</td>\n",
              "      <td>-0.026057</td>\n",
              "      <td>0.005661</td>\n",
              "      <td>0.289411</td>\n",
              "      <td>0.300836</td>\n",
              "      <td>0.198118</td>\n",
              "      <td>-0.148175</td>\n",
              "      <td>0.128765</td>\n",
              "      <td>0.171627</td>\n",
              "      <td>0.178485</td>\n",
              "    </tr>\n",
              "    <tr>\n",
              "      <th>holiday</th>\n",
              "      <td>0.053782</td>\n",
              "      <td>1.000000</td>\n",
              "      <td>-0.261289</td>\n",
              "      <td>-0.024705</td>\n",
              "      <td>0.027247</td>\n",
              "      <td>0.021613</td>\n",
              "      <td>0.010063</td>\n",
              "      <td>0.010490</td>\n",
              "      <td>0.060569</td>\n",
              "      <td>-0.011170</td>\n",
              "      <td>0.007303</td>\n",
              "    </tr>\n",
              "    <tr>\n",
              "      <th>workingday</th>\n",
              "      <td>-0.026057</td>\n",
              "      <td>-0.261289</td>\n",
              "      <td>1.000000</td>\n",
              "      <td>0.025796</td>\n",
              "      <td>0.008080</td>\n",
              "      <td>0.004248</td>\n",
              "      <td>-0.042038</td>\n",
              "      <td>0.020902</td>\n",
              "      <td>-0.318646</td>\n",
              "      <td>0.116545</td>\n",
              "      <td>0.009777</td>\n",
              "    </tr>\n",
              "    <tr>\n",
              "      <th>weather</th>\n",
              "      <td>0.005661</td>\n",
              "      <td>-0.024705</td>\n",
              "      <td>0.025796</td>\n",
              "      <td>1.000000</td>\n",
              "      <td>-0.056071</td>\n",
              "      <td>-0.054807</td>\n",
              "      <td>0.408866</td>\n",
              "      <td>0.016127</td>\n",
              "      <td>-0.133502</td>\n",
              "      <td>-0.112213</td>\n",
              "      <td>-0.130228</td>\n",
              "    </tr>\n",
              "    <tr>\n",
              "      <th>temp</th>\n",
              "      <td>0.289411</td>\n",
              "      <td>0.027247</td>\n",
              "      <td>0.008080</td>\n",
              "      <td>-0.056071</td>\n",
              "      <td>1.000000</td>\n",
              "      <td>0.992399</td>\n",
              "      <td>-0.064663</td>\n",
              "      <td>-0.008570</td>\n",
              "      <td>0.479073</td>\n",
              "      <td>0.323455</td>\n",
              "      <td>0.401246</td>\n",
              "    </tr>\n",
              "    <tr>\n",
              "      <th>atemp</th>\n",
              "      <td>0.300836</td>\n",
              "      <td>0.021613</td>\n",
              "      <td>0.004248</td>\n",
              "      <td>-0.054807</td>\n",
              "      <td>0.992399</td>\n",
              "      <td>1.000000</td>\n",
              "      <td>-0.043438</td>\n",
              "      <td>-0.048005</td>\n",
              "      <td>0.478243</td>\n",
              "      <td>0.322273</td>\n",
              "      <td>0.400032</td>\n",
              "    </tr>\n",
              "    <tr>\n",
              "      <th>humidity</th>\n",
              "      <td>0.198118</td>\n",
              "      <td>0.010063</td>\n",
              "      <td>-0.042038</td>\n",
              "      <td>0.408866</td>\n",
              "      <td>-0.064663</td>\n",
              "      <td>-0.043438</td>\n",
              "      <td>1.000000</td>\n",
              "      <td>-0.307589</td>\n",
              "      <td>-0.351558</td>\n",
              "      <td>-0.275160</td>\n",
              "      <td>-0.325974</td>\n",
              "    </tr>\n",
              "    <tr>\n",
              "      <th>windspeed</th>\n",
              "      <td>-0.148175</td>\n",
              "      <td>0.010490</td>\n",
              "      <td>0.020902</td>\n",
              "      <td>0.016127</td>\n",
              "      <td>-0.008570</td>\n",
              "      <td>-0.048005</td>\n",
              "      <td>-0.307589</td>\n",
              "      <td>1.000000</td>\n",
              "      <td>0.106504</td>\n",
              "      <td>0.100555</td>\n",
              "      <td>0.113096</td>\n",
              "    </tr>\n",
              "    <tr>\n",
              "      <th>casual</th>\n",
              "      <td>0.128765</td>\n",
              "      <td>0.060569</td>\n",
              "      <td>-0.318646</td>\n",
              "      <td>-0.133502</td>\n",
              "      <td>0.479073</td>\n",
              "      <td>0.478243</td>\n",
              "      <td>-0.351558</td>\n",
              "      <td>0.106504</td>\n",
              "      <td>1.000000</td>\n",
              "      <td>0.500273</td>\n",
              "      <td>0.691666</td>\n",
              "    </tr>\n",
              "    <tr>\n",
              "      <th>registered</th>\n",
              "      <td>0.171627</td>\n",
              "      <td>-0.011170</td>\n",
              "      <td>0.116545</td>\n",
              "      <td>-0.112213</td>\n",
              "      <td>0.323455</td>\n",
              "      <td>0.322273</td>\n",
              "      <td>-0.275160</td>\n",
              "      <td>0.100555</td>\n",
              "      <td>0.500273</td>\n",
              "      <td>1.000000</td>\n",
              "      <td>0.971367</td>\n",
              "    </tr>\n",
              "    <tr>\n",
              "      <th>count</th>\n",
              "      <td>0.178485</td>\n",
              "      <td>0.007303</td>\n",
              "      <td>0.009777</td>\n",
              "      <td>-0.130228</td>\n",
              "      <td>0.401246</td>\n",
              "      <td>0.400032</td>\n",
              "      <td>-0.325974</td>\n",
              "      <td>0.113096</td>\n",
              "      <td>0.691666</td>\n",
              "      <td>0.971367</td>\n",
              "      <td>1.000000</td>\n",
              "    </tr>\n",
              "  </tbody>\n",
              "</table>\n",
              "</div>"
            ],
            "text/plain": [
              "              season   holiday  workingday   weather      temp     atemp  \\\n",
              "season      1.000000  0.053782   -0.026057  0.005661  0.289411  0.300836   \n",
              "holiday     0.053782  1.000000   -0.261289 -0.024705  0.027247  0.021613   \n",
              "workingday -0.026057 -0.261289    1.000000  0.025796  0.008080  0.004248   \n",
              "weather     0.005661 -0.024705    0.025796  1.000000 -0.056071 -0.054807   \n",
              "temp        0.289411  0.027247    0.008080 -0.056071  1.000000  0.992399   \n",
              "atemp       0.300836  0.021613    0.004248 -0.054807  0.992399  1.000000   \n",
              "humidity    0.198118  0.010063   -0.042038  0.408866 -0.064663 -0.043438   \n",
              "windspeed  -0.148175  0.010490    0.020902  0.016127 -0.008570 -0.048005   \n",
              "casual      0.128765  0.060569   -0.318646 -0.133502  0.479073  0.478243   \n",
              "registered  0.171627 -0.011170    0.116545 -0.112213  0.323455  0.322273   \n",
              "count       0.178485  0.007303    0.009777 -0.130228  0.401246  0.400032   \n",
              "\n",
              "            humidity  windspeed    casual  registered     count  \n",
              "season      0.198118  -0.148175  0.128765    0.171627  0.178485  \n",
              "holiday     0.010063   0.010490  0.060569   -0.011170  0.007303  \n",
              "workingday -0.042038   0.020902 -0.318646    0.116545  0.009777  \n",
              "weather     0.408866   0.016127 -0.133502   -0.112213 -0.130228  \n",
              "temp       -0.064663  -0.008570  0.479073    0.323455  0.401246  \n",
              "atemp      -0.043438  -0.048005  0.478243    0.322273  0.400032  \n",
              "humidity    1.000000  -0.307589 -0.351558   -0.275160 -0.325974  \n",
              "windspeed  -0.307589   1.000000  0.106504    0.100555  0.113096  \n",
              "casual     -0.351558   0.106504  1.000000    0.500273  0.691666  \n",
              "registered -0.275160   0.100555  0.500273    1.000000  0.971367  \n",
              "count      -0.325974   0.113096  0.691666    0.971367  1.000000  "
            ]
          },
          "metadata": {},
          "execution_count": 67
        }
      ]
    },
    {
      "cell_type": "code",
      "metadata": {
        "colab": {
          "base_uri": "https://localhost:8080/",
          "height": 202
        },
        "id": "fLlcUWGWk7yP",
        "outputId": "e6f479d1-9c25-4f2b-d962-dbd38d6ac5c3"
      },
      "source": [
        "trial.head()"
      ],
      "execution_count": null,
      "outputs": [
        {
          "output_type": "execute_result",
          "data": {
            "text/html": [
              "<div>\n",
              "<style scoped>\n",
              "    .dataframe tbody tr th:only-of-type {\n",
              "        vertical-align: middle;\n",
              "    }\n",
              "\n",
              "    .dataframe tbody tr th {\n",
              "        vertical-align: top;\n",
              "    }\n",
              "\n",
              "    .dataframe thead th {\n",
              "        text-align: right;\n",
              "    }\n",
              "</style>\n",
              "<table border=\"1\" class=\"dataframe\">\n",
              "  <thead>\n",
              "    <tr style=\"text-align: right;\">\n",
              "      <th></th>\n",
              "      <th>datetime</th>\n",
              "      <th>season</th>\n",
              "      <th>holiday</th>\n",
              "      <th>workingday</th>\n",
              "      <th>weather</th>\n",
              "      <th>temp</th>\n",
              "      <th>atemp</th>\n",
              "      <th>humidity</th>\n",
              "      <th>windspeed</th>\n",
              "      <th>casual</th>\n",
              "      <th>registered</th>\n",
              "      <th>count</th>\n",
              "    </tr>\n",
              "  </thead>\n",
              "  <tbody>\n",
              "    <tr>\n",
              "      <th>0</th>\n",
              "      <td>2011-01-01 00:00:00</td>\n",
              "      <td>1</td>\n",
              "      <td>0</td>\n",
              "      <td>0</td>\n",
              "      <td>1</td>\n",
              "      <td>9.84</td>\n",
              "      <td>14.395</td>\n",
              "      <td>81</td>\n",
              "      <td>0.0</td>\n",
              "      <td>3</td>\n",
              "      <td>13</td>\n",
              "      <td>16</td>\n",
              "    </tr>\n",
              "    <tr>\n",
              "      <th>1</th>\n",
              "      <td>2011-01-01 01:00:00</td>\n",
              "      <td>1</td>\n",
              "      <td>0</td>\n",
              "      <td>0</td>\n",
              "      <td>1</td>\n",
              "      <td>9.02</td>\n",
              "      <td>13.635</td>\n",
              "      <td>80</td>\n",
              "      <td>0.0</td>\n",
              "      <td>8</td>\n",
              "      <td>32</td>\n",
              "      <td>40</td>\n",
              "    </tr>\n",
              "    <tr>\n",
              "      <th>2</th>\n",
              "      <td>2011-01-01 02:00:00</td>\n",
              "      <td>1</td>\n",
              "      <td>0</td>\n",
              "      <td>0</td>\n",
              "      <td>1</td>\n",
              "      <td>9.02</td>\n",
              "      <td>13.635</td>\n",
              "      <td>80</td>\n",
              "      <td>0.0</td>\n",
              "      <td>5</td>\n",
              "      <td>27</td>\n",
              "      <td>32</td>\n",
              "    </tr>\n",
              "    <tr>\n",
              "      <th>3</th>\n",
              "      <td>2011-01-01 03:00:00</td>\n",
              "      <td>1</td>\n",
              "      <td>0</td>\n",
              "      <td>0</td>\n",
              "      <td>1</td>\n",
              "      <td>9.84</td>\n",
              "      <td>14.395</td>\n",
              "      <td>75</td>\n",
              "      <td>0.0</td>\n",
              "      <td>3</td>\n",
              "      <td>10</td>\n",
              "      <td>13</td>\n",
              "    </tr>\n",
              "    <tr>\n",
              "      <th>4</th>\n",
              "      <td>2011-01-01 04:00:00</td>\n",
              "      <td>1</td>\n",
              "      <td>0</td>\n",
              "      <td>0</td>\n",
              "      <td>1</td>\n",
              "      <td>9.84</td>\n",
              "      <td>14.395</td>\n",
              "      <td>75</td>\n",
              "      <td>0.0</td>\n",
              "      <td>0</td>\n",
              "      <td>1</td>\n",
              "      <td>1</td>\n",
              "    </tr>\n",
              "  </tbody>\n",
              "</table>\n",
              "</div>"
            ],
            "text/plain": [
              "              datetime  season  holiday  workingday  weather  temp   atemp  \\\n",
              "0  2011-01-01 00:00:00       1        0           0        1  9.84  14.395   \n",
              "1  2011-01-01 01:00:00       1        0           0        1  9.02  13.635   \n",
              "2  2011-01-01 02:00:00       1        0           0        1  9.02  13.635   \n",
              "3  2011-01-01 03:00:00       1        0           0        1  9.84  14.395   \n",
              "4  2011-01-01 04:00:00       1        0           0        1  9.84  14.395   \n",
              "\n",
              "   humidity  windspeed  casual  registered  count  \n",
              "0        81        0.0       3          13     16  \n",
              "1        80        0.0       8          32     40  \n",
              "2        80        0.0       5          27     32  \n",
              "3        75        0.0       3          10     13  \n",
              "4        75        0.0       0           1      1  "
            ]
          },
          "metadata": {},
          "execution_count": 68
        }
      ]
    },
    {
      "cell_type": "code",
      "metadata": {
        "colab": {
          "base_uri": "https://localhost:8080/"
        },
        "id": "5sNdT1p8k-xW",
        "outputId": "d6b5d341-39ee-4bd9-c466-097448a3f207"
      },
      "source": [
        "trial.columns\n"
      ],
      "execution_count": null,
      "outputs": [
        {
          "output_type": "execute_result",
          "data": {
            "text/plain": [
              "Index(['datetime', 'season', 'holiday', 'workingday', 'weather', 'temp',\n",
              "       'atemp', 'humidity', 'windspeed', 'casual', 'registered', 'count'],\n",
              "      dtype='object')"
            ]
          },
          "metadata": {},
          "execution_count": 71
        }
      ]
    },
    {
      "cell_type": "code",
      "metadata": {
        "id": "k201R1twkibZ"
      },
      "source": [
        "trial_sep=trial[['season','temp','atemp','windspeed','count']]"
      ],
      "execution_count": null,
      "outputs": []
    },
    {
      "cell_type": "code",
      "metadata": {
        "colab": {
          "base_uri": "https://localhost:8080/",
          "height": 202
        },
        "id": "_M8LMkA9lcq6",
        "outputId": "66d84b22-d6d1-411c-dfa5-e67ef0690ca3"
      },
      "source": [
        "trial_sep.corr()"
      ],
      "execution_count": null,
      "outputs": [
        {
          "output_type": "execute_result",
          "data": {
            "text/html": [
              "<div>\n",
              "<style scoped>\n",
              "    .dataframe tbody tr th:only-of-type {\n",
              "        vertical-align: middle;\n",
              "    }\n",
              "\n",
              "    .dataframe tbody tr th {\n",
              "        vertical-align: top;\n",
              "    }\n",
              "\n",
              "    .dataframe thead th {\n",
              "        text-align: right;\n",
              "    }\n",
              "</style>\n",
              "<table border=\"1\" class=\"dataframe\">\n",
              "  <thead>\n",
              "    <tr style=\"text-align: right;\">\n",
              "      <th></th>\n",
              "      <th>season</th>\n",
              "      <th>temp</th>\n",
              "      <th>atemp</th>\n",
              "      <th>windspeed</th>\n",
              "      <th>count</th>\n",
              "    </tr>\n",
              "  </thead>\n",
              "  <tbody>\n",
              "    <tr>\n",
              "      <th>season</th>\n",
              "      <td>1.000000</td>\n",
              "      <td>0.289411</td>\n",
              "      <td>0.300836</td>\n",
              "      <td>-0.148175</td>\n",
              "      <td>0.178485</td>\n",
              "    </tr>\n",
              "    <tr>\n",
              "      <th>temp</th>\n",
              "      <td>0.289411</td>\n",
              "      <td>1.000000</td>\n",
              "      <td>0.992399</td>\n",
              "      <td>-0.008570</td>\n",
              "      <td>0.401246</td>\n",
              "    </tr>\n",
              "    <tr>\n",
              "      <th>atemp</th>\n",
              "      <td>0.300836</td>\n",
              "      <td>0.992399</td>\n",
              "      <td>1.000000</td>\n",
              "      <td>-0.048005</td>\n",
              "      <td>0.400032</td>\n",
              "    </tr>\n",
              "    <tr>\n",
              "      <th>windspeed</th>\n",
              "      <td>-0.148175</td>\n",
              "      <td>-0.008570</td>\n",
              "      <td>-0.048005</td>\n",
              "      <td>1.000000</td>\n",
              "      <td>0.113096</td>\n",
              "    </tr>\n",
              "    <tr>\n",
              "      <th>count</th>\n",
              "      <td>0.178485</td>\n",
              "      <td>0.401246</td>\n",
              "      <td>0.400032</td>\n",
              "      <td>0.113096</td>\n",
              "      <td>1.000000</td>\n",
              "    </tr>\n",
              "  </tbody>\n",
              "</table>\n",
              "</div>"
            ],
            "text/plain": [
              "             season      temp     atemp  windspeed     count\n",
              "season     1.000000  0.289411  0.300836  -0.148175  0.178485\n",
              "temp       0.289411  1.000000  0.992399  -0.008570  0.401246\n",
              "atemp      0.300836  0.992399  1.000000  -0.048005  0.400032\n",
              "windspeed -0.148175 -0.008570 -0.048005   1.000000  0.113096\n",
              "count      0.178485  0.401246  0.400032   0.113096  1.000000"
            ]
          },
          "metadata": {},
          "execution_count": 73
        }
      ]
    },
    {
      "cell_type": "code",
      "metadata": {
        "colab": {
          "base_uri": "https://localhost:8080/"
        },
        "id": "LudF3BHeljeK",
        "outputId": "4bcbcd65-27c1-4f13-9a10-fa31fc571c75"
      },
      "source": [
        "trial_sep.dtypes"
      ],
      "execution_count": null,
      "outputs": [
        {
          "output_type": "execute_result",
          "data": {
            "text/plain": [
              "season         int64\n",
              "temp         float64\n",
              "atemp        float64\n",
              "windspeed    float64\n",
              "count          int64\n",
              "dtype: object"
            ]
          },
          "metadata": {},
          "execution_count": 74
        }
      ]
    },
    {
      "cell_type": "code",
      "metadata": {
        "colab": {
          "base_uri": "https://localhost:8080/"
        },
        "id": "-LqIRiU6ndya",
        "outputId": "e7a38a92-04b9-4185-e50a-054ae2d0588e"
      },
      "source": [
        "trial_sep[\"count\"] = np.log(trial_sep[\"count\"])"
      ],
      "execution_count": null,
      "outputs": [
        {
          "output_type": "stream",
          "name": "stderr",
          "text": [
            "/usr/local/lib/python3.7/dist-packages/ipykernel_launcher.py:1: SettingWithCopyWarning: \n",
            "A value is trying to be set on a copy of a slice from a DataFrame.\n",
            "Try using .loc[row_indexer,col_indexer] = value instead\n",
            "\n",
            "See the caveats in the documentation: https://pandas.pydata.org/pandas-docs/stable/user_guide/indexing.html#returning-a-view-versus-a-copy\n",
            "  \"\"\"Entry point for launching an IPython kernel.\n"
          ]
        }
      ]
    },
    {
      "cell_type": "code",
      "metadata": {
        "id": "zGR94_wyma2h"
      },
      "source": [
        "from sklearn.model_selection import train_test_split\n",
        "X=trial_sep.iloc[:,0:4]\n",
        "Y=trial_sep.iloc[:,4]\n",
        "test_size = 0.33\n",
        "\n",
        "# Selection of records to inclue in which sub-dataset must be done randomly - use the for seed radomization\n",
        "\n",
        "seed = 7\n",
        "\n",
        "# Split the dataset (both input & output) into training/testing datasets\n",
        "\n",
        "X_train, X_test, Y_train, Y_test= train_test_split(X,Y, test_size=0.2, random_state=seed)"
      ],
      "execution_count": null,
      "outputs": []
    },
    {
      "cell_type": "code",
      "metadata": {
        "colab": {
          "base_uri": "https://localhost:8080/"
        },
        "id": "XPOn-O-Dn6hC",
        "outputId": "28c99c1e-ffcf-4fd7-e77c-0a24b09d7389"
      },
      "source": [
        "trial_sep.isnull().sum()"
      ],
      "execution_count": null,
      "outputs": [
        {
          "output_type": "execute_result",
          "data": {
            "text/plain": [
              "season       0\n",
              "temp         0\n",
              "atemp        0\n",
              "windspeed    0\n",
              "count        0\n",
              "dtype: int64"
            ]
          },
          "metadata": {},
          "execution_count": 77
        }
      ]
    },
    {
      "cell_type": "code",
      "metadata": {
        "colab": {
          "base_uri": "https://localhost:8080/"
        },
        "id": "9Tu5SBZ9ls8Z",
        "outputId": "3cbc77a6-1415-4708-d9ef-f09fffe23e12"
      },
      "source": [
        "\n",
        "from sklearn.linear_model import LinearRegression\n",
        "lm = LinearRegression()\n",
        "lm.fit(X_train, Y_train)\n",
        "\n",
        "predictions = lm.predict(X_test)\n",
        "\n",
        "from sklearn.metrics import mean_squared_error\n",
        "print(\"RMSE of the linear regression model :\" +str(np.sqrt(mean_squared_error(predictions,Y_test))))"
      ],
      "execution_count": null,
      "outputs": [
        {
          "output_type": "stream",
          "name": "stdout",
          "text": [
            "RMSE of the linear regression model :1.357732868473487\n"
          ]
        }
      ]
    },
    {
      "cell_type": "code",
      "metadata": {
        "id": "OzOII9MUgRUz"
      },
      "source": [
        "from sklearn.model_selection import KFold\n",
        "from sklearn.model_selection import cross_val_score"
      ],
      "execution_count": null,
      "outputs": []
    },
    {
      "cell_type": "code",
      "metadata": {
        "colab": {
          "base_uri": "https://localhost:8080/"
        },
        "id": "SUng6ivgilkv",
        "outputId": "c9bd1418-0d74-4c5b-b84d-d545aa7f8d58"
      },
      "source": [
        "#Changing the number of folds\n",
        "\n",
        "# Evaluate the algorithm\n",
        "# Specify the K-size\n",
        "\n",
        "num_folds = 10\n",
        "\n",
        "# Fix the random seed must use the same seed value so that the same subsets can be obtained\n",
        "# for each time the process is repeated\n",
        "\n",
        "seed = 7\n",
        "\n",
        "# Split the whole data set into folds\n",
        "\n",
        "kfold= KFold(n_splits=num_folds, random_state=seed, shuffle=True)\n",
        "\n",
        "# For Linear regression, we can use explained variance value to evaluate the model/algorithm\n",
        "\n",
        "scoring = 'explained_variance'\n",
        "\n",
        "# Train the model and run K-foLd cross-validation to validate/evaluate the model\n",
        "\n",
        "results = cross_val_score(lm, x, y, cv=kfold, scoring=scoring)\n",
        "\n",
        "# Print out the evaluation results\n",
        "# Result: the average of all the results obtained from the k-fold cross validation\n",
        "\n",
        "print(\"Average of all results from the K-fold Cross Validation, using exlpained variance:\",results.mean())"
      ],
      "execution_count": null,
      "outputs": [
        {
          "output_type": "stream",
          "name": "stdout",
          "text": [
            "Average of all results from the K-fold Cross Validation, using exlpained variance: -17439428010514.557\n"
          ]
        }
      ]
    },
    {
      "cell_type": "code",
      "metadata": {
        "id": "2-jXuJV7i71g"
      },
      "source": [
        ""
      ],
      "execution_count": null,
      "outputs": []
    }
  ]
}