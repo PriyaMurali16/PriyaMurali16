{
  "nbformat": 4,
  "nbformat_minor": 0,
  "metadata": {
    "colab": {
      "name": "Lab 6 11441152 (1) (1).ipynb",
      "provenance": [],
      "collapsed_sections": [],
      "include_colab_link": true
    },
    "kernelspec": {
      "display_name": "Python 3",
      "language": "python",
      "name": "python3"
    },
    "language_info": {
      "codemirror_mode": {
        "name": "ipython",
        "version": 3
      },
      "file_extension": ".py",
      "mimetype": "text/x-python",
      "name": "python",
      "nbconvert_exporter": "python",
      "pygments_lexer": "ipython3",
      "version": "3.8.8"
    }
  },
  "cells": [
    {
      "cell_type": "markdown",
      "metadata": {
        "id": "view-in-github",
        "colab_type": "text"
      },
      "source": [
        "<a href=\"https://colab.research.google.com/github/PriyaMurali16/PriyaMurali16/blob/main/Lab_6_11441152_(1)_(1).ipynb\" target=\"_parent\"><img src=\"https://colab.research.google.com/assets/colab-badge.svg\" alt=\"Open In Colab\"/></a>"
      ]
    },
    {
      "cell_type": "markdown",
      "metadata": {
        "id": "cgYYSOTqxSvy"
      },
      "source": [
        "##Lab 6"
      ]
    },
    {
      "cell_type": "code",
      "metadata": {
        "id": "K_Jbr8n5xSv3"
      },
      "source": [
        "##Importing libraries\n",
        "import matplotlib.pyplot as plt\n",
        "import matplotlib.image as mpimg\n",
        "import numpy as np\n",
        "from PIL import Image"
      ],
      "execution_count": null,
      "outputs": []
    },
    {
      "cell_type": "code",
      "metadata": {
        "id": "i7QjSkOcxSv4"
      },
      "source": [
        "\n",
        "image_file=['farm1.jpg', 'farm2.jpg', 'farm3.jpg', 'farm4.jpg',\n",
        " 'farm5.jpg', 'farm6.jpg', 'farm7.jpg', 'farm8.jpg',\n",
        " 'city1.jpg', 'city2.jpg', 'city3.jpg', 'city4.jpg',\n",
        " 'city5.jpg', 'city6.jpg', 'city7.jpg', 'city8.jpg',\n",
        " 'desert1.jpg', 'desert2.jpg', 'desert3.jpg', 'desert4.jpg',\n",
        " 'desert5.jpg', 'desert6.jpg', 'desert7.jpg', 'desert8.jpg']\n"
      ],
      "execution_count": null,
      "outputs": []
    },
    {
      "cell_type": "code",
      "metadata": {
        "id": "iraS80dVxSv5"
      },
      "source": [
        "\n",
        "farm_green =[]\n",
        "city_green = []\n",
        "desert_green =[] \n",
        "\n",
        "farm_blue =[]\n",
        "city_blue = []\n",
        "desert_blue =[]"
      ],
      "execution_count": null,
      "outputs": []
    },
    {
      "cell_type": "code",
      "metadata": {
        "colab": {
          "base_uri": "https://localhost:8080/"
        },
        "id": "48V35VuOqnXi",
        "outputId": "4f1f47d0-c323-4b60-ddc7-06c428d15d76"
      },
      "source": [
        "for image in image_file[:8]:\n",
        "    img= mpimg.imread(image)\n",
        "    RGBtuple = np.array(img).mean(axis=(0,1))\n",
        "    print(RGBtuple)\n",
        "    avg_Red = RGBtuple[0]\n",
        "    avg_Green = RGBtuple[1]\n",
        "    avg_Blue = RGBtuple[2]\n",
        "    percentage_green=avg_Green/(avg_Green+avg_Blue+avg_Red)\n",
        "    percentage_blue=avg_Blue/(avg_Green+avg_Blue+avg_Red)\n",
        "    farm_green.append(percentage_green)\n",
        "    farm_blue.append(percentage_blue)"
      ],
      "execution_count": null,
      "outputs": [
        {
          "output_type": "stream",
          "name": "stdout",
          "text": [
            "[126.35905268 142.33717471 100.64697715]\n",
            "[151.52081831 159.99333874  99.2741915 ]\n",
            "[116.43807542 128.88547973 101.35947351]\n",
            "[114.24361851 122.63628542  81.36707798]\n",
            "[109.49629821 121.2246945   85.22457509]\n",
            "[125.09867859 169.38279185 153.35634377]\n",
            "[129.04203908 119.92307226  88.10725648]\n",
            "[127.18766224 146.16683017 129.10646157]\n"
          ]
        }
      ]
    },
    {
      "cell_type": "code",
      "metadata": {
        "id": "tvUXeEQwxSv5"
      },
      "source": [
        " ## 8 because first 8 pictures are for the farm\n",
        "for image in image_file[:8]:\n",
        "    img= mpimg.imread(image)\n",
        "    RGBtuple = np.array(img).mean(axis=(0,1))\n",
        "    avg_Red = RGBtuple[0]\n",
        "    avg_Green = RGBtuple[1]\n",
        "    avg_Blue = RGBtuple[2]\n",
        "    percentage_green=avg_Green/(avg_Green+avg_Blue+avg_Red)\n",
        "    percentage_blue=avg_Blue/(avg_Green+avg_Blue+avg_Red)\n",
        "    farm_green.append(percentage_green)\n",
        "    farm_blue.append(percentage_blue)\n",
        "\n",
        "#for city \n",
        "for image in image_file[8:16]:\n",
        "    img = mpimg.imread(image)\n",
        "    RGBtuple = np.array(img).mean(axis=(0,1))\n",
        "    avg_Red = RGBtuple[0]\n",
        "    avg_Green = RGBtuple[1]\n",
        "    avg_Blue = RGBtuple[2]\n",
        "    percentage_green=avg_Green/(avg_Green+avg_Blue+avg_Red)\n",
        "    percentage_blue=avg_Blue/(avg_Green+avg_Blue+avg_Red)\n",
        "    city_green.append(percentage_green)\n",
        "    city_blue.append(percentage_blue)\n",
        "\n",
        "\n",
        "#for dessert \n",
        "for image in image_file[16:]:\n",
        "    img = mpimg.imread(image)\n",
        "    RGBtuple = np.array(img).mean(axis=(0,1))\n",
        "    avg_Red = RGBtuple[0]\n",
        "    avg_Green = RGBtuple[1]\n",
        "    avg_Blue = RGBtuple[2]\n",
        "    percentage_green=avg_Green/(avg_Green+avg_Blue+avg_Red)\n",
        "    percentage_blue=avg_Blue/(avg_Green+avg_Blue+avg_Red)\n",
        "    desert_green.append(percentage_green)\n",
        "    desert_blue.append(percentage_blue)"
      ],
      "execution_count": null,
      "outputs": []
    },
    {
      "cell_type": "code",
      "metadata": {
        "id": "mGJN6Wy5xSv6",
        "colab": {
          "base_uri": "https://localhost:8080/",
          "height": 409
        },
        "outputId": "6dea3ece-53f9-40d1-b082-52b3d9786cfe"
      },
      "source": [
        "plt.figure(figsize=(8,6))\n",
        "plt.scatter(farm_green, farm_blue, s=100, marker='o', c='green')\n",
        "plt.scatter(city_green, city_blue, s=100, marker='x', c='blue')\n",
        "plt.scatter(desert_green, desert_blue, s=100, marker='s', c='brown')\n",
        "# Show the boundary between the regions:\n",
        "plt.title('Farm, city, and desert training images', fontsize=15,fontweight='bold', color='#4112BD')\n",
        "plt.xlabel('Percentage green',fontsize=12,fontweight='bold', color='#4112BD')\n",
        "plt.ylabel('Percentage blue',fontsize=12,fontweight='bold', color='#4112BD')\n",
        "plt.legend(['farm','city','desert'])\n",
        "plt.show()"
      ],
      "execution_count": null,
      "outputs": [
        {
          "output_type": "display_data",
          "data": {
            "image/png": "[encoded data removed]",
            "text/plain": [
              "<Figure size 576x432 with 1 Axes>"
            ]
          },
          "metadata": {
            "needs_background": "light"
          }
        }
      ]
    },
    {
      "cell_type": "code",
      "metadata": {
        "id": "8TpeA5GvxSv8"
      },
      "source": [
        "\n",
        "training_target=['farm', 'farm', 'farm', 'farm',\n",
        " 'farm', 'farm', 'farm', 'farm',\n",
        " 'city', 'city', 'city', 'city',\n",
        " 'city', 'city', 'city', 'city',\n",
        " 'desert', 'desert', 'desert', 'desert',\n",
        " 'desert', 'desert', 'desert', 'desert']\n"
      ],
      "execution_count": null,
      "outputs": []
    },
    {
      "cell_type": "code",
      "metadata": {
        "id": "-oEY72SbxSv8",
        "colab": {
          "base_uri": "https://localhost:8080/"
        },
        "outputId": "5e5abf28-43bd-4057-9b5f-bba31e0c6c30"
      },
      "source": [
        "\n",
        "training_data = np.zeros((24,2))\n",
        "print(training_data)"
      ],
      "execution_count": null,
      "outputs": [
        {
          "output_type": "stream",
          "name": "stdout",
          "text": [
            "[[0. 0.]\n",
            " [0. 0.]\n",
            " [0. 0.]\n",
            " [0. 0.]\n",
            " [0. 0.]\n",
            " [0. 0.]\n",
            " [0. 0.]\n",
            " [0. 0.]\n",
            " [0. 0.]\n",
            " [0. 0.]\n",
            " [0. 0.]\n",
            " [0. 0.]\n",
            " [0. 0.]\n",
            " [0. 0.]\n",
            " [0. 0.]\n",
            " [0. 0.]\n",
            " [0. 0.]\n",
            " [0. 0.]\n",
            " [0. 0.]\n",
            " [0. 0.]\n",
            " [0. 0.]\n",
            " [0. 0.]\n",
            " [0. 0.]\n",
            " [0. 0.]]\n"
          ]
        }
      ]
    },
    {
      "cell_type": "code",
      "metadata": {
        "colab": {
          "base_uri": "https://localhost:8080/"
        },
        "id": "feBUsBlhyduR",
        "outputId": "04f0f5e8-3e38-47db-b256-5af87535b9a1"
      },
      "source": [
        "farm_green"
      ],
      "execution_count": null,
      "outputs": [
        {
          "output_type": "execute_result",
          "data": {
            "text/plain": [
              "[0.38537916213835416,\n",
              " 0.38947876516901914,\n",
              " 0.37176749098686257,\n",
              " 0.3853494059331435,\n",
              " 0.3836885427597768,\n",
              " 0.3782235141367888,\n",
              " 0.3557784135089085,\n",
              " 0.3631826360385042,\n",
              " 0.38537916213835416,\n",
              " 0.38947876516901914,\n",
              " 0.37176749098686257,\n",
              " 0.3853494059331435,\n",
              " 0.3836885427597768,\n",
              " 0.3782235141367888,\n",
              " 0.3557784135089085,\n",
              " 0.3631826360385042]"
            ]
          },
          "metadata": {},
          "execution_count": 12
        }
      ]
    },
    {
      "cell_type": "code",
      "metadata": {
        "colab": {
          "base_uri": "https://localhost:8080/"
        },
        "id": "2jnjSHCqy1Oq",
        "outputId": "188fd2cb-c199-4e61-a14b-d3ef2ee38e7e"
      },
      "source": [
        "city_green"
      ],
      "execution_count": null,
      "outputs": [
        {
          "output_type": "execute_result",
          "data": {
            "text/plain": [
              "[0.3338467930412881,\n",
              " 0.3145798947161084,\n",
              " 0.32982159222616164,\n",
              " 0.3302142216023482,\n",
              " 0.3126774452579913,\n",
              " 0.36200550003320575,\n",
              " 0.33263930746275666,\n",
              " 0.33155647847549335]"
            ]
          },
          "metadata": {},
          "execution_count": 13
        }
      ]
    },
    {
      "cell_type": "code",
      "metadata": {
        "id": "u1ixo3UWxSv9",
        "outputId": "0d8c6c91-0358-4909-981a-c902453814b5"
      },
      "source": [
        "\n",
        "for i in range(8):\n",
        "    training_data[i,0] = farm_green[i]\n",
        "    training_data[8+i,0]= city_green[i]\n",
        "    training_data[16+i,0]=desert_green[i]\n",
        "    training_data[i,1] = farm_blue[i]\n",
        "    training_data[8+i,1]= city_blue[i]\n",
        "    training_data[16+i,1]=desert_blue[i]  \n",
        "print(training_data)"
      ],
      "execution_count": null,
      "outputs": [
        {
          "name": "stdout",
          "output_type": "stream",
          "text": [
            "[[0.38537916 0.27250258]\n",
            " [0.38947877 0.2416675 ]\n",
            " [0.37176749 0.2923693 ]\n",
            " [0.38534941 0.25567274]\n",
            " [0.38368854 0.26974449]\n",
            " [0.37822351 0.34243724]\n",
            " [0.35577841 0.26138973]\n",
            " [0.36318264 0.32079251]\n",
            " [0.33384679 0.33987008]\n",
            " [0.31457989 0.31740955]\n",
            " [0.32982159 0.30761097]\n",
            " [0.33021422 0.40329483]\n",
            " [0.31267745 0.37068047]\n",
            " [0.3620055  0.35922372]\n",
            " [0.33263931 0.28122414]\n",
            " [0.33155648 0.31387494]\n",
            " [0.28899154 0.26478622]\n",
            " [0.32887465 0.29461288]\n",
            " [0.32171351 0.24749944]\n",
            " [0.35209261 0.23171261]\n",
            " [0.32718513 0.21564911]\n",
            " [0.33655681 0.2638719 ]\n",
            " [0.34419192 0.13749538]\n",
            " [0.32732039 0.26438328]]\n"
          ]
        }
      ]
    },
    {
      "cell_type": "code",
      "metadata": {
        "id": "LIJ78wXWxSv9"
      },
      "source": [
        "\n",
        "from sklearn import neighbors\n",
        "k1 = neighbors.KNeighborsClassifier(n_neighbors=1,weights='distance')"
      ],
      "execution_count": null,
      "outputs": []
    },
    {
      "cell_type": "code",
      "metadata": {
        "id": "3Wyommj4xSv-",
        "colab": {
          "base_uri": "https://localhost:8080/"
        },
        "outputId": "e8bc5981-803c-4cba-cdca-e7eda4beaafe"
      },
      "source": [
        "\n",
        "k1.fit(training_data,training_target)\n"
      ],
      "execution_count": null,
      "outputs": [
        {
          "output_type": "execute_result",
          "data": {
            "text/plain": [
              "KNeighborsClassifier(algorithm='auto', leaf_size=30, metric='minkowski',\n",
              "                     metric_params=None, n_jobs=None, n_neighbors=1, p=2,\n",
              "                     weights='distance')"
            ]
          },
          "metadata": {},
          "execution_count": 20
        }
      ]
    },
    {
      "cell_type": "code",
      "metadata": {
        "id": "2i5w8h8WxSv-"
      },
      "source": [
        "\n",
        "test=['test1.jpg','test2.jpg','test3.jpg']\n",
        "\n",
        "test_green=[]\n",
        "test_blue=[]"
      ],
      "execution_count": null,
      "outputs": []
    },
    {
      "cell_type": "code",
      "metadata": {
        "id": "OJ9H_LOOxSv-"
      },
      "source": [
        "\n",
        "for image in test:\n",
        "    img = mpimg.imread(image)\n",
        "    RGBtuple = np.array(img).mean(axis=(0,1))\n",
        "    avg_Red = RGBtuple[0]\n",
        "    avg_Green = RGBtuple[1]\n",
        "    avg_Blue = RGBtuple[2]\n",
        "    percentage_green=avg_Green/(avg_Green+avg_Blue+avg_Red)\n",
        "    percentage_blue=avg_Blue/(avg_Green+avg_Blue+avg_Red)\n",
        "    test_green.append(percentage_green)\n",
        "    test_blue.append(percentage_blue)"
      ],
      "execution_count": null,
      "outputs": []
    },
    {
      "cell_type": "code",
      "metadata": {
        "id": "-TQ6VC_HxSv_",
        "colab": {
          "base_uri": "https://localhost:8080/"
        },
        "outputId": "40a33bf1-d01f-44ee-f85a-b68c55099dc9"
      },
      "source": [
        "test_data = np.zeros((3,2)) # creating a matrix with zeros of 3 rows and 2 colums\n",
        "for i in range(3):  # replacing the matrix with test green and test blue values \n",
        "    test_data[i,0]=test_green[i]\n",
        "    test_data[i,1]=test_blue[i]\n",
        "print(test_data)"
      ],
      "execution_count": null,
      "outputs": [
        {
          "output_type": "stream",
          "name": "stdout",
          "text": [
            "[[0.3269592  0.32688513]\n",
            " [0.33429384 0.17936789]\n",
            " [0.35004008 0.24578861]]\n"
          ]
        }
      ]
    },
    {
      "cell_type": "code",
      "metadata": {
        "id": "45eIbirWxSv_"
      },
      "source": [
        "##predicting values\n",
        "k1_pred = k1.predict(test_data)"
      ],
      "execution_count": null,
      "outputs": []
    },
    {
      "cell_type": "code",
      "metadata": {
        "id": "axMqNJfExSv_",
        "colab": {
          "base_uri": "https://localhost:8080/"
        },
        "outputId": "fcf70ccc-c540-4bf6-913b-34cf0b39754b"
      },
      "source": [
        "##comparing what we predicted versus what they actually are\n",
        "print('Predicted:',k1_pred)\n",
        "print('Correct images:',['city','desert','farm'])"
      ],
      "execution_count": null,
      "outputs": [
        {
          "output_type": "stream",
          "name": "stdout",
          "text": [
            "Predicted: ['farm' 'farm' 'farm']\n",
            "Correct images: ['city', 'desert', 'farm']\n"
          ]
        }
      ]
    },
    {
      "cell_type": "code",
      "metadata": {
        "id": "k--nxc3dxSwA"
      },
      "source": [
        "##All except the last image was classified wrong"
      ],
      "execution_count": null,
      "outputs": []
    },
    {
      "cell_type": "code",
      "metadata": {
        "id": "NX6on3hL0dZB"
      },
      "source": [
        ""
      ],
      "execution_count": null,
      "outputs": []
    }
  ]
}