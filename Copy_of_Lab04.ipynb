{
  "nbformat": 4,
  "nbformat_minor": 0,
  "metadata": {
    "anaconda-cloud": {},
    "celltoolbar": "Edit Metadata",
    "kernelspec": {
      "display_name": "Python 3",
      "language": "python",
      "name": "python3"
    },
    "language_info": {
      "codemirror_mode": {
        "name": "ipython",
        "version": 3
      },
      "file_extension": ".py",
      "mimetype": "text/x-python",
      "name": "python",
      "nbconvert_exporter": "python",
      "pygments_lexer": "ipython3",
      "version": "3.7.6"
    },
    "colab": {
      "name": "Copy of Lab04.ipynb",
      "provenance": [],
      "collapsed_sections": [
        "ypeVO1dG3AmO"
      ],
      "include_colab_link": true
    }
  },
  "cells": [
    {
      "cell_type": "markdown",
      "metadata": {
        "id": "view-in-github",
        "colab_type": "text"
      },
      "source": [
        "<a href=\"https://colab.research.google.com/github/PriyaMurali16/PriyaMurali16/blob/main/Copy_of_Lab04.ipynb\" target=\"_parent\"><img src=\"https://colab.research.google.com/assets/colab-badge.svg\" alt=\"Open In Colab\"/></a>"
      ]
    },
    {
      "cell_type": "markdown",
      "metadata": {
        "id": "UuO1y9xt3Al_"
      },
      "source": [
        "# Lab 4: Simulations\n",
        "\n",
        "Welcome to Lab 4! \n",
        "\n",
        "We will go over [iteration](https://www.inferentialthinking.com/chapters/09/2/Iteration.html) and [simulations](https://www.inferentialthinking.com/chapters/09/3/Simulation.html), as well as the concept of [randomness](https://www.inferentialthinking.com/chapters/09/Randomness.html).\n",
        "\n",
        "First, set up the tests and imports by running the cell below."
      ]
    },
    {
      "cell_type": "code",
      "metadata": {
        "id": "sr7e2XnN3AmD",
        "colab": {
          "base_uri": "https://localhost:8080/"
        },
        "outputId": "76fe51db-9853-47c4-e476-47f9c3ae82cf"
      },
      "source": [
        "# Run this cell, but please don't change it.\n",
        "\n",
        "# These lines import the Numpy and Datascience modules.\n",
        "import numpy as np\n",
        "from datascience import *\n",
        "\n",
        "# These lines do some fancy plotting magic\n",
        "import matplotlib\n",
        "%matplotlib inline\n",
        "import matplotlib.pyplot as plt\n",
        "plt.style.use('fivethirtyeight')"
      ],
      "execution_count": null,
      "outputs": [
        {
          "output_type": "stream",
          "name": "stderr",
          "text": [
            "/usr/local/lib/python3.7/dist-packages/datascience/tables.py:17: MatplotlibDeprecationWarning: The 'warn' parameter of use() is deprecated since Matplotlib 3.1 and will be removed in 3.3.  If any parameter follows 'warn', they should be pass as keyword, not positionally.\n",
            "  matplotlib.use('agg', warn=False)\n",
            "/usr/local/lib/python3.7/dist-packages/datascience/util.py:10: MatplotlibDeprecationWarning: The 'warn' parameter of use() is deprecated since Matplotlib 3.1 and will be removed in 3.3.  If any parameter follows 'warn', they should be pass as keyword, not positionally.\n",
            "  matplotlib.use('agg', warn=False)\n"
          ]
        }
      ]
    },
    {
      "cell_type": "markdown",
      "metadata": {
        "id": "NA12Gruc3AmG"
      },
      "source": [
        "## 1. Nachos and Conditionals"
      ]
    },
    {
      "cell_type": "markdown",
      "metadata": {
        "id": "Oi1tOT3e3AmG"
      },
      "source": [
        "In Python, the boolean data type contains only two unique values:  `True` and `False`. Expressions containing comparison operators such as `<` (less than), `>` (greater than), and `==` (equal to) evaluate to Boolean values. A list of common comparison operators can be found below!\n",
        "\n",
        "<img src=\"comparisons.png\">"
      ]
    },
    {
      "cell_type": "markdown",
      "metadata": {
        "id": "yvYD6p1Z3AmH"
      },
      "source": [
        "Run the cell below to see an example of a comparison operator in action."
      ]
    },
    {
      "cell_type": "code",
      "metadata": {
        "id": "aCFeFeTn3AmH",
        "colab": {
          "base_uri": "https://localhost:8080/"
        },
        "outputId": "cf7feafd-ef4f-4d60-c853-8f0a9bc0be79"
      },
      "source": [
        "3 > 1 + 1"
      ],
      "execution_count": null,
      "outputs": [
        {
          "output_type": "execute_result",
          "data": {
            "text/plain": [
              "True"
            ]
          },
          "metadata": {},
          "execution_count": 2
        }
      ]
    },
    {
      "cell_type": "markdown",
      "metadata": {
        "id": "2MDbRTJd3AmI"
      },
      "source": [
        "We can even assign the result of a comparison operation to a variable."
      ]
    },
    {
      "cell_type": "code",
      "metadata": {
        "id": "Ukw1Fwdo3AmJ",
        "colab": {
          "base_uri": "https://localhost:8080/"
        },
        "outputId": "793c53ca-1702-49d7-b90d-91b2eee9d57f"
      },
      "source": [
        "result = 10 / 2 == 5\n",
        "result"
      ],
      "execution_count": null,
      "outputs": [
        {
          "output_type": "execute_result",
          "data": {
            "text/plain": [
              "True"
            ]
          },
          "metadata": {},
          "execution_count": 3
        }
      ]
    },
    {
      "cell_type": "markdown",
      "metadata": {
        "id": "0iy6XUlX3AmJ"
      },
      "source": [
        "Arrays are compatible with comparison operators. The output is an array of boolean values."
      ]
    },
    {
      "cell_type": "code",
      "metadata": {
        "id": "We3a4NQ-3AmK",
        "colab": {
          "base_uri": "https://localhost:8080/"
        },
        "outputId": "1b402079-ddfd-4ff8-97f5-81334b78d480"
      },
      "source": [
        "make_array(1, 5, 7, 8, 3, -1) > 3"
      ],
      "execution_count": null,
      "outputs": [
        {
          "output_type": "execute_result",
          "data": {
            "text/plain": [
              "array([False,  True,  True,  True, False, False])"
            ]
          },
          "metadata": {},
          "execution_count": 4
        }
      ]
    },
    {
      "cell_type": "markdown",
      "metadata": {
        "id": "YI5eBDAr3AmL"
      },
      "source": [
        "One day, when you come home after a long week, you see a hot bowl of nachos waiting on the dining table! Let's say that whenever you take a nacho from the bowl, it will either have only **cheese**, only **salsa**, **both** cheese and salsa, or **neither** cheese nor salsa (a sad tortilla chip indeed). \n",
        "\n",
        "Let's try and simulate taking nachos from the bowl at random using the function, `np.random.choice(...)`."
      ]
    },
    {
      "cell_type": "markdown",
      "metadata": {
        "id": "LfowlET_3AmL"
      },
      "source": [
        "### `np.random.choice`\n",
        "\n",
        "`np.random.choice` picks one item at random from the given array. It is equally likely to pick any of the items. Run the cell below several times, and observe how the results change."
      ]
    },
    {
      "cell_type": "code",
      "metadata": {
        "id": "-K9FF-Al3AmM",
        "colab": {
          "base_uri": "https://localhost:8080/",
          "height": 35
        },
        "outputId": "d17cb2da-2665-4111-f874-52c9b260bb09"
      },
      "source": [
        "nachos = make_array('cheese', 'salsa', 'both', 'neither')\n",
        "np.random.choice(nachos)"
      ],
      "execution_count": null,
      "outputs": [
        {
          "output_type": "execute_result",
          "data": {
            "application/vnd.google.colaboratory.intrinsic+json": {
              "type": "string"
            },
            "text/plain": [
              "'cheese'"
            ]
          },
          "metadata": {},
          "execution_count": 5
        }
      ]
    },
    {
      "cell_type": "code",
      "metadata": {
        "id": "-71qyo0Rh7l1",
        "colab": {
          "base_uri": "https://localhost:8080/",
          "height": 35
        },
        "outputId": "444ad8f5-20c4-4eca-831d-5d1115ae002f"
      },
      "source": [
        "nachos = make_array('cheese', 'salsa', 'both', 'neither')\n",
        "np.random.choice(nachos)"
      ],
      "execution_count": null,
      "outputs": [
        {
          "output_type": "execute_result",
          "data": {
            "application/vnd.google.colaboratory.intrinsic+json": {
              "type": "string"
            },
            "text/plain": [
              "'neither'"
            ]
          },
          "metadata": {},
          "execution_count": 6
        }
      ]
    },
    {
      "cell_type": "markdown",
      "metadata": {
        "id": "eEwjg14l3AmM"
      },
      "source": [
        "To repeat this process multiple times, pass in an int `n` as the second argument to return `n` different random choices. By default, `np.random.choice` samples **with replacement** and returns an *array* of items. \n",
        "\n",
        "Run the next cell to see an example of sampling with replacement 10 times from the `nachos` array."
      ]
    },
    {
      "cell_type": "code",
      "metadata": {
        "id": "Eei5TH8N3AmN",
        "colab": {
          "base_uri": "https://localhost:8080/"
        },
        "outputId": "96f3636f-f727-4206-822c-4474909c8ae3"
      },
      "source": [
        "np.random.choice(nachos, 10)"
      ],
      "execution_count": null,
      "outputs": [
        {
          "output_type": "execute_result",
          "data": {
            "text/plain": [
              "array(['cheese', 'both', 'both', 'neither', 'salsa', 'neither', 'cheese',\n",
              "       'both', 'salsa', 'both'], dtype='<U7')"
            ]
          },
          "metadata": {},
          "execution_count": 7
        }
      ]
    },
    {
      "cell_type": "markdown",
      "metadata": {
        "id": "T0ekV7iX3AmN"
      },
      "source": [
        "To count the number of times a certain type of nacho is randomly chosen, we can use `np.count_nonzero`"
      ]
    },
    {
      "cell_type": "markdown",
      "metadata": {
        "id": "ypeVO1dG3AmO"
      },
      "source": [
        "### `np.count_nonzero`\n",
        "\n",
        "`np.count_nonzero` counts the number of non-zero values that appear in an array. When an array of boolean values are passed through the function, it will count the number of `True` values (remember that in Python, `True` is coded as 1 and `False` is coded as 0.)\n",
        "\n",
        "Run the next cell to see an example that uses `np.count_nonzero`."
      ]
    },
    {
      "cell_type": "code",
      "metadata": {
        "id": "gPjwBX--3AmO",
        "colab": {
          "base_uri": "https://localhost:8080/"
        },
        "outputId": "edb962ef-093f-4eaa-b75d-0e715cd2c81d"
      },
      "source": [
        "np.count_nonzero(make_array(True, False, False, True, True))"
      ],
      "execution_count": null,
      "outputs": [
        {
          "output_type": "execute_result",
          "data": {
            "text/plain": [
              "3"
            ]
          },
          "metadata": {},
          "execution_count": 8
        }
      ]
    },
    {
      "cell_type": "markdown",
      "metadata": {
        "id": "r0dZg08j3AmO"
      },
      "source": [
        "<span style='background:yellow'>**Question 1.1.**</span> Assume we took ten nachos at random, and stored the results in an array called `ten_nachos` as done below. Find the number of nachos with only cheese using code (do not hardcode the answer).  \n",
        "\n",
        "*Hint:* Our solution involves a comparison operator (e.g. `=`, `<`, ...) and the `np.count_nonzero` method."
      ]
    },
    {
      "cell_type": "code",
      "metadata": {
        "id": "Eade5N1i3AmP",
        "colab": {
          "base_uri": "https://localhost:8080/"
        },
        "outputId": "c8818a39-41b2-427a-c9d9-9154387d5acf"
      },
      "source": [
        "ten_nachos = make_array('neither', 'cheese', 'both', 'both', 'cheese', 'salsa', 'both', 'neither', 'cheese', 'both')\n",
        "\n",
        "number_cheese = np.count_nonzero(ten_nachos=='cheese')\n",
        "number_cheese"
      ],
      "execution_count": null,
      "outputs": [
        {
          "output_type": "execute_result",
          "data": {
            "text/plain": [
              "3"
            ]
          },
          "metadata": {},
          "execution_count": 9
        }
      ]
    },
    {
      "cell_type": "code",
      "metadata": {
        "id": "kLZi2UXZ3AmP"
      },
      "source": [
        "# TEST\n",
        "number_cheese == 3"
      ],
      "execution_count": null,
      "outputs": []
    },
    {
      "cell_type": "markdown",
      "metadata": {
        "id": "xbLnXbIu3AmQ"
      },
      "source": [
        "**Conditional Statements**\n",
        "\n",
        "A conditional statement is a multi-line statement that allows Python to choose among different alternatives based on the truth value of an expression.\n",
        "\n",
        "Here is a basic example.\n",
        "\n",
        "```\n",
        "def sign(x):\n",
        "    if x > 0:\n",
        "        return 'Positive'\n",
        "    else:\n",
        "        return 'Negative'\n",
        "```\n",
        "\n",
        "If the input `x` is greater than `0`, we return the string `'Positive'`. Otherwise, we return `'Negative'`.\n",
        "\n",
        "If we want to test multiple conditions at once, we use the following general format.\n",
        "\n",
        "```\n",
        "if <if expression>:\n",
        "    <if body>\n",
        "elif <elif expression 0>:\n",
        "    <elif body 0>\n",
        "elif <elif expression 1>:\n",
        "    <elif body 1>\n",
        "...\n",
        "else:\n",
        "    <else body>\n",
        "```\n",
        "\n",
        "Only the body for the first conditional expression that is true will be evaluated. Each `if` and `elif` expression is evaluated and considered in order, starting at the top. As soon as a true value is found, the corresponding body is executed, and the rest of the conditional statement is skipped. If none of the `if` or `elif` expressions are true, then the `else body` is executed. \n",
        "\n",
        "For more examples and explanation, refer to the section on conditional statements [here](https://www.inferentialthinking.com/chapters/09/1/conditional-statements.html)."
      ]
    },
    {
      "cell_type": "markdown",
      "metadata": {
        "id": "FfA7C2fw3AmQ"
      },
      "source": [
        "<span style='background:yellow'>**Question 1.2.**</span> Complete the following conditional statement so that the string `'More please'` is assigned to the variable `say_please` if the number of nachos with cheese in `ten_nachos` is less than `5`.\n",
        "\n",
        "*Hint*: You should be using `number_cheese` from Question 1."
      ]
    },
    {
      "cell_type": "code",
      "metadata": {
        "for_assignment_type": "student",
        "id": "a5eU5Pn_3AmR",
        "colab": {
          "base_uri": "https://localhost:8080/",
          "height": 35
        },
        "outputId": "e9094933-8a18-491d-fd14-60c673ca777e"
      },
      "source": [
        "say_please = ''\n",
        "\n",
        "if number_cheese<5:\n",
        "    say_please = 'More please'\n",
        "say_please"
      ],
      "execution_count": null,
      "outputs": [
        {
          "output_type": "execute_result",
          "data": {
            "application/vnd.google.colaboratory.intrinsic+json": {
              "type": "string"
            },
            "text/plain": [
              "'More please'"
            ]
          },
          "metadata": {},
          "execution_count": 10
        }
      ]
    },
    {
      "cell_type": "code",
      "metadata": {
        "id": "vB7KgQzV3AmR",
        "colab": {
          "base_uri": "https://localhost:8080/"
        },
        "outputId": "7837ea2b-1649-46b7-8744-18f6b5ac3668"
      },
      "source": [
        "# TEST\n",
        "say_please == 'More please'"
      ],
      "execution_count": null,
      "outputs": [
        {
          "output_type": "execute_result",
          "data": {
            "text/plain": [
              "True"
            ]
          },
          "metadata": {},
          "execution_count": 11
        }
      ]
    },
    {
      "cell_type": "markdown",
      "metadata": {
        "id": "2OHwTfCz3AmS"
      },
      "source": [
        "<span style='background:yellow'>**Question 1.3.**</span> Write a function called `nacho_reaction` that returns a reaction (as a string) based on the type of nacho passed in as an argument. Use the table below to match the nacho type to the appropriate reaction.\n",
        "\n",
        "<img src=\"nacho_reactions.png\">\n",
        "\n",
        "*Hint:* If you're failing the test, double check the spelling of your reactions."
      ]
    },
    {
      "cell_type": "code",
      "metadata": {
        "for_assignment_type": "student",
        "id": "90OqfOgr3AmS",
        "colab": {
          "base_uri": "https://localhost:8080/",
          "height": 35
        },
        "outputId": "9784362d-2aa7-48a1-f2c0-659a6cc3057c"
      },
      "source": [
        "def nacho_reaction(nacho):\n",
        "    if nacho == \"cheese\":\n",
        "        return \"Cheesy!\"\n",
        "    elif nacho==\"salsa\" :\n",
        "        return \"Spicy!\"\n",
        "    elif nacho==\"both\":\n",
        "        return \"Wow!\"\n",
        "    elif nacho==\"neither\" :\n",
        "        return \"Meh.\"\n",
        "\n",
        "spicy_nacho = nacho_reaction('salsa')\n",
        "spicy_nacho"
      ],
      "execution_count": null,
      "outputs": [
        {
          "output_type": "execute_result",
          "data": {
            "application/vnd.google.colaboratory.intrinsic+json": {
              "type": "string"
            },
            "text/plain": [
              "'Spicy!'"
            ]
          },
          "metadata": {},
          "execution_count": 19
        }
      ]
    },
    {
      "cell_type": "code",
      "metadata": {
        "id": "90iP4IJq3AmS",
        "colab": {
          "base_uri": "https://localhost:8080/"
        },
        "outputId": "2764231e-2afa-493d-c6fc-5c513f76ef43"
      },
      "source": [
        "# TEST\n",
        "nacho_reaction('salsa') == 'Spicy!'"
      ],
      "execution_count": null,
      "outputs": [
        {
          "output_type": "execute_result",
          "data": {
            "text/plain": [
              "True"
            ]
          },
          "metadata": {},
          "execution_count": 20
        }
      ]
    },
    {
      "cell_type": "code",
      "metadata": {
        "id": "6PjsgqaC3AmT",
        "colab": {
          "base_uri": "https://localhost:8080/"
        },
        "outputId": "72e2ebde-c793-46c3-8101-4b24a4595a1d"
      },
      "source": [
        "# TEST\n",
        "nacho_reaction('cheese') == 'Cheesy!'"
      ],
      "execution_count": null,
      "outputs": [
        {
          "output_type": "execute_result",
          "data": {
            "text/plain": [
              "True"
            ]
          },
          "metadata": {},
          "execution_count": 21
        }
      ]
    },
    {
      "cell_type": "code",
      "metadata": {
        "id": "BkXq0CE_3AmT",
        "colab": {
          "base_uri": "https://localhost:8080/"
        },
        "outputId": "93279763-c8b6-42dd-b2fe-cc2f382be253"
      },
      "source": [
        "# TEST\n",
        "nacho_reaction('both') == 'Wow!'"
      ],
      "execution_count": null,
      "outputs": [
        {
          "output_type": "execute_result",
          "data": {
            "text/plain": [
              "True"
            ]
          },
          "metadata": {},
          "execution_count": 22
        }
      ]
    },
    {
      "cell_type": "code",
      "metadata": {
        "id": "0CF_ftK83AmT",
        "colab": {
          "base_uri": "https://localhost:8080/"
        },
        "outputId": "b7418900-8de6-4877-d8e1-00e54ff6ca1c"
      },
      "source": [
        "# TEST\n",
        "nacho_reaction('neither') == 'Meh.'"
      ],
      "execution_count": null,
      "outputs": [
        {
          "output_type": "execute_result",
          "data": {
            "text/plain": [
              "True"
            ]
          },
          "metadata": {},
          "execution_count": 23
        }
      ]
    },
    {
      "cell_type": "markdown",
      "metadata": {
        "id": "afh3iTLr3AmT"
      },
      "source": [
        "<span style='background:yellow'>**Question 1.4.**</span> Create a table `ten_nachos_reactions` that consists of the nachos in `ten_nachos` as well as the reactions for each of those nachos. The columns should be called `Nachos` and `Reactions`.\n",
        "\n",
        "*Hint:* Use the `apply` method. "
      ]
    },
    {
      "cell_type": "code",
      "metadata": {
        "for_assignment_type": "student",
        "id": "GrwsfhF63AmT",
        "colab": {
          "base_uri": "https://localhost:8080/",
          "height": 363
        },
        "outputId": "2891db04-ed1f-4243-8a1b-163189cb48e4"
      },
      "source": [
        "ten_nachos_tbl = Table().with_column('Nachos', ten_nachos)\n",
        "\n",
        "ten_nachos_reactions=ten_nachos_tbl.with_column('Reactions',ten_nachos_tbl.apply(nacho_reaction,\"Nachos\"))\n",
        "ten_nachos_reactions"
      ],
      "execution_count": null,
      "outputs": [
        {
          "output_type": "execute_result",
          "data": {
            "text/html": [
              "<table border=\"1\" class=\"dataframe\">\n",
              "    <thead>\n",
              "        <tr>\n",
              "            <th>Nachos</th> <th>Reactions</th>\n",
              "        </tr>\n",
              "    </thead>\n",
              "    <tbody>\n",
              "        <tr>\n",
              "            <td>neither</td> <td>Meh.     </td>\n",
              "        </tr>\n",
              "        <tr>\n",
              "            <td>cheese </td> <td>Cheesy!  </td>\n",
              "        </tr>\n",
              "        <tr>\n",
              "            <td>both   </td> <td>Wow!     </td>\n",
              "        </tr>\n",
              "        <tr>\n",
              "            <td>both   </td> <td>Wow!     </td>\n",
              "        </tr>\n",
              "        <tr>\n",
              "            <td>cheese </td> <td>Cheesy!  </td>\n",
              "        </tr>\n",
              "        <tr>\n",
              "            <td>salsa  </td> <td>Spicy!   </td>\n",
              "        </tr>\n",
              "        <tr>\n",
              "            <td>both   </td> <td>Wow!     </td>\n",
              "        </tr>\n",
              "        <tr>\n",
              "            <td>neither</td> <td>Meh.     </td>\n",
              "        </tr>\n",
              "        <tr>\n",
              "            <td>cheese </td> <td>Cheesy!  </td>\n",
              "        </tr>\n",
              "        <tr>\n",
              "            <td>both   </td> <td>Wow!     </td>\n",
              "        </tr>\n",
              "    </tbody>\n",
              "</table>"
            ],
            "text/plain": [
              "Nachos  | Reactions\n",
              "neither | Meh.\n",
              "cheese  | Cheesy!\n",
              "both    | Wow!\n",
              "both    | Wow!\n",
              "cheese  | Cheesy!\n",
              "salsa   | Spicy!\n",
              "both    | Wow!\n",
              "neither | Meh.\n",
              "cheese  | Cheesy!\n",
              "both    | Wow!"
            ]
          },
          "metadata": {},
          "execution_count": 27
        }
      ]
    },
    {
      "cell_type": "code",
      "metadata": {
        "id": "M-3cBH9ql5EJ"
      },
      "source": [
        ""
      ],
      "execution_count": null,
      "outputs": []
    },
    {
      "cell_type": "code",
      "metadata": {
        "id": "_tnZJsda3AmU",
        "colab": {
          "base_uri": "https://localhost:8080/"
        },
        "outputId": "64ff9859-9067-4903-f385-72e41a8babc5"
      },
      "source": [
        "# TEST\n",
        "# One or more of the reaction results could be incorrect;\n",
        "np.count_nonzero(ten_nachos_reactions.column('Reactions') == make_array('Meh.', 'Cheesy!', 'Wow!', 'Wow!', 'Cheesy!', 'Spicy!', 'Wow!', 'Meh.', 'Cheesy!', 'Wow!')) == 10"
      ],
      "execution_count": null,
      "outputs": [
        {
          "output_type": "execute_result",
          "data": {
            "text/plain": [
              "True"
            ]
          },
          "metadata": {},
          "execution_count": 28
        }
      ]
    },
    {
      "cell_type": "markdown",
      "metadata": {
        "id": "kIUYygM13AmU"
      },
      "source": [
        "<span style='background:yellow'>**Question 1.5.**</span> Using code, find the number of 'Wow!' reactions for the nachos in `ten_nachos_reactions`."
      ]
    },
    {
      "cell_type": "code",
      "metadata": {
        "id": "eKa0WjYG3AmU",
        "colab": {
          "base_uri": "https://localhost:8080/"
        },
        "outputId": "85617958-2e36-4c36-b557-77febaa6b9a4"
      },
      "source": [
        "number_wow_reactions = np.count_nonzero(ten_nachos_reactions.column(\"Reactions\")==\"Wow!\")\n",
        "number_wow_reactions"
      ],
      "execution_count": null,
      "outputs": [
        {
          "output_type": "execute_result",
          "data": {
            "text/plain": [
              "4"
            ]
          },
          "metadata": {},
          "execution_count": 30
        }
      ]
    },
    {
      "cell_type": "code",
      "metadata": {
        "id": "DO0xQ1AP3AmU",
        "colab": {
          "base_uri": "https://localhost:8080/"
        },
        "outputId": "7340162e-e5f4-41a5-b033-b9406371d8cc"
      },
      "source": [
        "# TEST\n",
        "2 < number_wow_reactions < 6"
      ],
      "execution_count": null,
      "outputs": [
        {
          "output_type": "execute_result",
          "data": {
            "text/plain": [
              "True"
            ]
          },
          "metadata": {},
          "execution_count": 31
        }
      ]
    },
    {
      "cell_type": "code",
      "metadata": {
        "id": "PcKafDqr3AmV",
        "colab": {
          "base_uri": "https://localhost:8080/"
        },
        "outputId": "e3d9ff55-691f-476c-94d8-beed26cd61be"
      },
      "source": [
        "# TEST \n",
        "# Incorrect value for number_wow_reactions\n",
        "number_wow_reactions == 4"
      ],
      "execution_count": null,
      "outputs": [
        {
          "output_type": "execute_result",
          "data": {
            "text/plain": [
              "True"
            ]
          },
          "metadata": {},
          "execution_count": 32
        }
      ]
    },
    {
      "cell_type": "markdown",
      "metadata": {
        "id": "raRMF3Jz3AmV"
      },
      "source": [
        "## 2. Simulations and For Loops\n",
        "Using a `for` statement, we can perform a task multiple times. This is known as iteration."
      ]
    },
    {
      "cell_type": "markdown",
      "metadata": {
        "id": "bAwNGLvP3AmV"
      },
      "source": [
        "One use of iteration is to loop through a set of values. For instance, we can print out all of the colors of the rainbow."
      ]
    },
    {
      "cell_type": "code",
      "metadata": {
        "id": "8B42XG8S3AmV",
        "colab": {
          "base_uri": "https://localhost:8080/"
        },
        "outputId": "313ac80d-dc54-4e0c-a00b-bd951715e393"
      },
      "source": [
        "rainbow = make_array(\"red\", \"orange\", \"yellow\", \"green\", \"blue\", \"indigo\", \"violet\")\n",
        "\n",
        "for color in rainbow:\n",
        "    print(color)"
      ],
      "execution_count": null,
      "outputs": [
        {
          "output_type": "stream",
          "name": "stdout",
          "text": [
            "red\n",
            "orange\n",
            "yellow\n",
            "green\n",
            "blue\n",
            "indigo\n",
            "violet\n"
          ]
        }
      ]
    },
    {
      "cell_type": "markdown",
      "metadata": {
        "id": "Nz8KArL33AmV"
      },
      "source": [
        "We can see that the indented part of the `for` loop, known as the body, is executed once for each item in `rainbow`. The name `color` is assigned to the next value in `rainbow` at the start of each iteration. Note that the name `color` is arbitrary; we could easily have named it something else. The important thing is we stay consistent throughout the `for` loop. "
      ]
    },
    {
      "cell_type": "code",
      "metadata": {
        "id": "tMnuU4xi3AmW",
        "colab": {
          "base_uri": "https://localhost:8080/"
        },
        "outputId": "e3c253a6-e249-4ef9-9a94-a45d5bfd2f6d"
      },
      "source": [
        "for another_name in rainbow:\n",
        "    print(another_name)"
      ],
      "execution_count": null,
      "outputs": [
        {
          "output_type": "stream",
          "name": "stdout",
          "text": [
            "red\n",
            "orange\n",
            "yellow\n",
            "green\n",
            "blue\n",
            "indigo\n",
            "violet\n"
          ]
        }
      ]
    },
    {
      "cell_type": "markdown",
      "metadata": {
        "id": "tGt05Ode3AmW"
      },
      "source": [
        "In general, however, we would like the variable name to be somewhat informative. "
      ]
    },
    {
      "cell_type": "markdown",
      "metadata": {
        "id": "OruaBSXr3AmW"
      },
      "source": [
        "<span style='background:yellow'>**Question 2.1.**</span> In the following cell, we've loaded the text of _Pride and Prejudice_ by Jane Austen, split it into individual words, and stored these words in an array `p_and_p_words`. Using a `for` loop, assign `longer_than_five` to the number of words in the novel that are more than 5 letters long.\n",
        "\n",
        "*Hint*: You can find the number of letters in a word with the `len` function."
      ]
    },
    {
      "cell_type": "code",
      "metadata": {
        "for_assignment_type": "student",
        "id": "g3p1_kMi3AmW",
        "colab": {
          "base_uri": "https://localhost:8080/",
          "height": 235
        },
        "outputId": "fd0995f8-a747-4313-f993-e6704d16aab2"
      },
      "source": [
        "austen_string = open('Austen_PrideAndPrejudice.txt', encoding='utf-8').read()\n",
        "p_and_p_words = np.array(austen_string.split())\n",
        "\n",
        "longer_than_five = 0\n",
        "for i in p_and_p_words:\n",
        "  if len(each_word) > 5:\n",
        "    longer_than_five = longer_than_five + 1\n",
        "\n",
        "# a for loop would be useful here\n",
        "\n",
        "\n",
        "longer_than_five"
      ],
      "execution_count": null,
      "outputs": [
        {
          "output_type": "error",
          "ename": "FileNotFoundError",
          "evalue": "ignored",
          "traceback": [
            "\u001b[0;31m---------------------------------------------------------------------------\u001b[0m",
            "\u001b[0;31mFileNotFoundError\u001b[0m                         Traceback (most recent call last)",
            "\u001b[0;32m<ipython-input-8-1d002633bbaa>\u001b[0m in \u001b[0;36m<module>\u001b[0;34m()\u001b[0m\n\u001b[0;32m----> 1\u001b[0;31m \u001b[0mausten_string\u001b[0m \u001b[0;34m=\u001b[0m \u001b[0mopen\u001b[0m\u001b[0;34m(\u001b[0m\u001b[0;34m'Austen_PrideAndPrejudice.txt'\u001b[0m\u001b[0;34m,\u001b[0m \u001b[0mencoding\u001b[0m\u001b[0;34m=\u001b[0m\u001b[0;34m'utf-8'\u001b[0m\u001b[0;34m)\u001b[0m\u001b[0;34m.\u001b[0m\u001b[0mread\u001b[0m\u001b[0;34m(\u001b[0m\u001b[0;34m)\u001b[0m\u001b[0;34m\u001b[0m\u001b[0;34m\u001b[0m\u001b[0m\n\u001b[0m\u001b[1;32m      2\u001b[0m \u001b[0mp_and_p_words\u001b[0m \u001b[0;34m=\u001b[0m \u001b[0mnp\u001b[0m\u001b[0;34m.\u001b[0m\u001b[0marray\u001b[0m\u001b[0;34m(\u001b[0m\u001b[0mausten_string\u001b[0m\u001b[0;34m.\u001b[0m\u001b[0msplit\u001b[0m\u001b[0;34m(\u001b[0m\u001b[0;34m)\u001b[0m\u001b[0;34m)\u001b[0m\u001b[0;34m\u001b[0m\u001b[0;34m\u001b[0m\u001b[0m\n\u001b[1;32m      3\u001b[0m \u001b[0;34m\u001b[0m\u001b[0m\n\u001b[1;32m      4\u001b[0m \u001b[0mlonger_than_five\u001b[0m \u001b[0;34m=\u001b[0m \u001b[0;36m0\u001b[0m\u001b[0;34m\u001b[0m\u001b[0;34m\u001b[0m\u001b[0m\n\u001b[1;32m      5\u001b[0m \u001b[0;32mfor\u001b[0m \u001b[0mi\u001b[0m \u001b[0;32min\u001b[0m \u001b[0mp_and_p_words\u001b[0m\u001b[0;34m:\u001b[0m\u001b[0;34m\u001b[0m\u001b[0;34m\u001b[0m\u001b[0m\n",
            "\u001b[0;31mFileNotFoundError\u001b[0m: [Errno 2] No such file or directory: 'Austen_PrideAndPrejudice.txt'"
          ]
        }
      ]
    },
    {
      "cell_type": "code",
      "metadata": {
        "id": "SJ2WNb0J3AmW"
      },
      "source": [
        "# TEST\n",
        "longer_than_five == 35453"
      ],
      "execution_count": null,
      "outputs": []
    },
    {
      "cell_type": "markdown",
      "metadata": {
        "id": "QEyhI5FH3AmX"
      },
      "source": [
        "<span style='background:yellow'>**Question 2.2.**</span> Using a simulation with 10,000 trials, assign num_different to the number of times, in 10,000 trials, that two words picked uniformly at random (with replacement) from Pride and Prejudice have different lengths. \n",
        "\n",
        "*Hint 1*: What function did we use in section 1 to sample at random with replacement from an array? \n",
        "\n",
        "*Hint 2*: Remember that `!=` checks for non-equality between two items."
      ]
    },
    {
      "cell_type": "code",
      "metadata": {
        "for_assignment_type": "student",
        "id": "Y0Z87_L63AmX"
      },
      "source": [
        "trials = 10000\n",
        "i=0\n",
        "num_different=[]\n",
        "while i<10000:\n",
        "  words_at_random=np.random.choice(p_and_p_words,2)\n",
        "  if len(words_at_random[0]) != len(words_at_random[1]):\n",
        "    num_different.append(1)\n",
        "    i=i+1\n",
        "  else:\n",
        "    i=i+1"
      ],
      "execution_count": null,
      "outputs": []
    },
    {
      "cell_type": "code",
      "metadata": {
        "id": "XhbZ7Z0Q1nyd",
        "colab": {
          "base_uri": "https://localhost:8080/"
        },
        "outputId": "7d5ce3c2-543f-409e-d777-8d9890a4feb6"
      },
      "source": [
        "len(num_different)"
      ],
      "execution_count": null,
      "outputs": [
        {
          "output_type": "execute_result",
          "data": {
            "text/plain": [
              "8630"
            ]
          },
          "metadata": {},
          "execution_count": 46
        }
      ]
    },
    {
      "cell_type": "markdown",
      "metadata": {
        "id": "y-e_yLQo12yQ"
      },
      "source": [
        "**Check with Professor**"
      ]
    },
    {
      "cell_type": "code",
      "metadata": {
        "id": "c6Iui0Zh3AmX"
      },
      "source": [
        "# TEST\n",
        "8100 <= len(num_different) <= 9100"
      ],
      "execution_count": null,
      "outputs": []
    },
    {
      "cell_type": "markdown",
      "metadata": {
        "id": "IHp-Puco3AmX"
      },
      "source": [
        "We can also use `np.random.choice` to simulate multiple trials.\n",
        "\n",
        "<span style='background:yellow'>**Question 2.3.**</span> Allie is playing darts. Her dartboard contains ten equal-sized zones with point values from 1 to 10. Write code that simulates her total score after 1000 dart tosses.\n",
        "\n",
        "*Hint:* First decide the possible values you can take in the experiment (point values in this case). Then use `np.random.choice` to simulate Allie's tosses. Finally, sum up the scores to get Allie's total score."
      ]
    },
    {
      "cell_type": "code",
      "metadata": {
        "for_assignment_type": "student",
        "id": "MkKL0QYQ3AmY",
        "colab": {
          "base_uri": "https://localhost:8080/"
        },
        "outputId": "1ce757f8-3bba-4963-8ffb-f4a2b4316930"
      },
      "source": [
        "possible_point_values = np.arange(1,11)\n",
        "num_tosses = 1000\n",
        "simulated_tosses = np.random.choice(possible_point_values,num_tosses)\n",
        "total_score = simulated_tosses.sum()\n",
        "total_score"
      ],
      "execution_count": null,
      "outputs": [
        {
          "output_type": "execute_result",
          "data": {
            "text/plain": [
              "5587"
            ]
          },
          "metadata": {},
          "execution_count": 47
        }
      ]
    },
    {
      "cell_type": "code",
      "metadata": {
        "id": "HQb6aKMa3AmY",
        "colab": {
          "base_uri": "https://localhost:8080/"
        },
        "outputId": "2cbba69e-bae1-47f6-b9ad-117ef28108ed"
      },
      "source": [
        "# TEST\n",
        "1000 <= total_score <= 10000"
      ],
      "execution_count": null,
      "outputs": [
        {
          "output_type": "execute_result",
          "data": {
            "text/plain": [
              "True"
            ]
          },
          "metadata": {},
          "execution_count": 48
        }
      ]
    },
    {
      "cell_type": "markdown",
      "metadata": {
        "id": "b6Zputlv3AmY"
      },
      "source": [
        "## 3. Probability"
      ]
    },
    {
      "cell_type": "markdown",
      "metadata": {
        "id": "efM8FNhZ3AmY"
      },
      "source": [
        "We will be testing some probability concepts that were introduced in lecture. For all of the following problems, we will introduce a problem statement and give you a proposed answer. You must assign the provided variable to one of the following three integers, depending on whether the proposed answer is too low, too high, or correct. \n",
        "\n",
        "1. Assign the variable to 1 if you believe our proposed answer is too high.\n",
        "2. Assign the variable to 2 if you believe our proposed answer is too low.\n",
        "3. Assign the variable to 3 if you believe our proposed answer is correct.\n",
        "\n",
        "\n",
        "You are more than welcome to create more cells across this notebook to use for arithmetic operations \n",
        "\n",
        "<span style='background:yellow'>**Question 3.1.**</span> You roll a 6-sided die 10 times. What is the chance of getting 10 sixes?\n",
        "\n",
        "Our proposed answer: $$\\left(\\frac{1}{6}\\right)^{10}$$\n",
        "\n",
        "Assign `ten_sixes` to either 1, 2, or 3 depending on if you think our answer is too high, too low, or correct. "
      ]
    },
    {
      "cell_type": "code",
      "metadata": {
        "id": "vrFsCzMtJ2eO"
      },
      "source": [
        "actual_prob1=(1/6)*(1/6)*(1/6)*(1/6)*(1/6)*(1/6)*(1/6)*(1/6)*(1/6)*(1/6)\n",
        "prop_prob1=(1/6)**10\n"
      ],
      "execution_count": null,
      "outputs": []
    },
    {
      "cell_type": "code",
      "metadata": {
        "id": "W6wB5myZJug-"
      },
      "source": [
        "ten_sixes=0\n",
        "if actual_prob1>prop_prob1:\n",
        "  ten_sixes=2\n",
        "elif actual_prob1<prop_prob1:\n",
        "  ten_sixes=1\n",
        "elif actual_prob1==prop_prob1:\n",
        "  ten_sixes=3"
      ],
      "execution_count": null,
      "outputs": []
    },
    {
      "cell_type": "code",
      "metadata": {
        "id": "sZkQU-Q43AmY",
        "colab": {
          "base_uri": "https://localhost:8080/"
        },
        "outputId": "d2badc9d-8ff7-449a-85f3-00641dc7f6a7"
      },
      "source": [
        "#ten_sixes = 3\n",
        "ten_sixes"
      ],
      "execution_count": null,
      "outputs": [
        {
          "output_type": "execute_result",
          "data": {
            "text/plain": [
              "3"
            ]
          },
          "metadata": {},
          "execution_count": 16
        }
      ]
    },
    {
      "cell_type": "code",
      "metadata": {
        "id": "3TFe7yrL3AmZ",
        "colab": {
          "base_uri": "https://localhost:8080/"
        },
        "outputId": "393e9764-9d15-41ba-9485-b90464536ab3"
      },
      "source": [
        "# TEST\n",
        "ten_sixes == 3"
      ],
      "execution_count": null,
      "outputs": [
        {
          "output_type": "execute_result",
          "data": {
            "text/plain": [
              "True"
            ]
          },
          "metadata": {},
          "execution_count": 17
        }
      ]
    },
    {
      "cell_type": "markdown",
      "metadata": {
        "id": "ktU5S7-R3AmZ"
      },
      "source": [
        "<span style='background:yellow'>**Question 3.2.**</span> Take the same problem set-up as before, rolling a fair dice 10 times. What is the chance that every roll is less than or equal to 5?\n",
        "\n",
        "Our proposed answer: $$1 - \\left(\\frac{1}{6}\\right)^{10}$$\n",
        "\n",
        "Assign `five_or_less` to either 1, 2, or 3. "
      ]
    },
    {
      "cell_type": "code",
      "metadata": {
        "id": "00KqhOxzKgrY"
      },
      "source": [
        "actual_prob2=(5/6)*(5/6)*(5/6)*(5/6)*(5/6)*(5/6)*(5/6)*(5/6)*(5/6)*(5/6)\n",
        "prop_prob2=1-(1/6)**10"
      ],
      "execution_count": null,
      "outputs": []
    },
    {
      "cell_type": "code",
      "metadata": {
        "id": "FjqYm_IuK2xl"
      },
      "source": [
        "five_or_less=0\n",
        "if actual_prob2>prop_prob2:\n",
        "  five_or_less=2\n",
        "elif actual_prob2<prop_prob2:\n",
        "  five_or_less=1\n",
        "elif actual_prob2==prop_prob2:\n",
        "  five_or_less=3"
      ],
      "execution_count": null,
      "outputs": []
    },
    {
      "cell_type": "code",
      "metadata": {
        "id": "iM96Pq2W3AmZ",
        "colab": {
          "base_uri": "https://localhost:8080/"
        },
        "outputId": "b342b97d-c45f-4506-e4bb-ea13dff71279"
      },
      "source": [
        "#five_or_less = 1\n",
        "five_or_less"
      ],
      "execution_count": null,
      "outputs": [
        {
          "output_type": "execute_result",
          "data": {
            "text/plain": [
              "1"
            ]
          },
          "metadata": {},
          "execution_count": 20
        }
      ]
    },
    {
      "cell_type": "code",
      "metadata": {
        "id": "kZsI2xME3Ama",
        "colab": {
          "base_uri": "https://localhost:8080/"
        },
        "outputId": "9fee2952-9cc0-4b26-8025-21af33784d3d"
      },
      "source": [
        "# TEST\n",
        "five_or_less == 1"
      ],
      "execution_count": null,
      "outputs": [
        {
          "output_type": "execute_result",
          "data": {
            "text/plain": [
              "True"
            ]
          },
          "metadata": {},
          "execution_count": 21
        }
      ]
    },
    {
      "cell_type": "markdown",
      "metadata": {
        "id": "r2vaMGwU3Ama"
      },
      "source": [
        "<span style='background:yellow'>**Question 3.3.**</span> Assume we are picking a lottery ticket. We must choose three distinct numbers from 1 to 1000 and write them on a ticket. Next, someone picks three numbers one by one from a bowl with numbers from 1 to 1000 each time without putting the previous number back in. We win if our numbers are all called in order. \n",
        "\n",
        "If we decide to play the game and pick our numbers as 12, 140, and 890, what is the chance that we win? \n",
        "\n",
        "Our proposed answer: $$\\left(\\frac{3}{1000}\\right)^3$$\n",
        "\n",
        "Assign `lottery` to either 1, 2, or 3. "
      ]
    },
    {
      "cell_type": "code",
      "metadata": {
        "id": "bKLjTveSJBzU"
      },
      "source": [
        "actual_prob=(1/1000)*(1/999)*(1/998)\n",
        "prop_prob=(3/1000)**3"
      ],
      "execution_count": null,
      "outputs": []
    },
    {
      "cell_type": "code",
      "metadata": {
        "id": "FAZkOGHxJQPp"
      },
      "source": [
        "lottery=0\n",
        "if actual_prob>prop_prob:\n",
        "  lottery=2\n",
        "elif actual_prob<prop_prob:\n",
        "  lottery=1\n",
        "elif actual_prob==prop_prob:\n",
        "  lottery=3"
      ],
      "execution_count": null,
      "outputs": []
    },
    {
      "cell_type": "code",
      "metadata": {
        "id": "ud0TrA9A3Ama"
      },
      "source": [
        "lottery=1"
      ],
      "execution_count": null,
      "outputs": []
    },
    {
      "cell_type": "code",
      "metadata": {
        "id": "6FsXjLPl3Ama",
        "colab": {
          "base_uri": "https://localhost:8080/"
        },
        "outputId": "d23dc2d1-ef61-404a-88f4-0cc81f2af9ff"
      },
      "source": [
        "# TEST\n",
        "lottery == 1"
      ],
      "execution_count": null,
      "outputs": [
        {
          "output_type": "execute_result",
          "data": {
            "text/plain": [
              "True"
            ]
          },
          "metadata": {},
          "execution_count": 7
        }
      ]
    },
    {
      "cell_type": "markdown",
      "metadata": {
        "id": "ntN7n7i53Ama"
      },
      "source": [
        "<span style='background:yellow'>**Question 3.4.**</span> Assume we have two lists, list A and list B. List A contains the numbers [20,10,30], while list B contains the numbers [10,30,20,40,30]. We choose one number from list A randomly and one number from list B randomly. What is the chance that the number we drew from list A is larger than or equal to the number we drew from list B?\n",
        "\n",
        "Our proposed solution: $$1/5$$\n",
        "\n",
        "Assign `list_chances` to either 1, 2, or 3. \n",
        "\n",
        "*Hint: Consider the different possible ways that the items in List A can be greater than or equal to items in List B. Try working out your thoughts with a pencil and paper, what do you think the correct solutions will be close to?*"
      ]
    },
    {
      "cell_type": "code",
      "metadata": {
        "id": "8aaB9oNfMbNn"
      },
      "source": [
        "actual_prob3=(1/3)*(2/5)+(1/3)*(1/5)+(1/3)*(4/5)\n",
        "prop_prob3=1/5"
      ],
      "execution_count": null,
      "outputs": []
    },
    {
      "cell_type": "code",
      "metadata": {
        "id": "LvUaCYo1Ma_E"
      },
      "source": [
        "list_chances=0\n",
        "if actual_prob3>prop_prob3:\n",
        "  list_chances=2\n",
        "elif actual_prob3<prop_prob3:\n",
        "  list_chances=1\n",
        "elif actual_prob3==prop_prob3:\n",
        "  list_chances=3"
      ],
      "execution_count": null,
      "outputs": []
    },
    {
      "cell_type": "code",
      "metadata": {
        "id": "0FGbZ4TK3Amb"
      },
      "source": [
        "list_chances = ..."
      ],
      "execution_count": null,
      "outputs": []
    },
    {
      "cell_type": "code",
      "metadata": {
        "id": "itf5et5W3Amb",
        "colab": {
          "base_uri": "https://localhost:8080/"
        },
        "outputId": "efd8364d-5864-47aa-9569-02cc666af6eb"
      },
      "source": [
        "# TEST\n",
        "list_chances == 2"
      ],
      "execution_count": null,
      "outputs": [
        {
          "output_type": "execute_result",
          "data": {
            "text/plain": [
              "True"
            ]
          },
          "metadata": {},
          "execution_count": 24
        }
      ]
    },
    {
      "cell_type": "markdown",
      "metadata": {
        "id": "X975WZ6R3Amb"
      },
      "source": [
        "Great job! You're finished with lab 4! Be sure to...\n",
        "\n",
        "* **run all the tests**,\n",
        "* **ask your TA or instructor to check you off** (optional),\n",
        "* **print the notebook as a PDF**,\n",
        "* and **submit both the notebook and the PDF to Canvas**."
      ]
    }
  ]
}